{
 "cells": [
  {
   "cell_type": "code",
   "execution_count": 1,
   "id": "f6066f9e",
   "metadata": {},
   "outputs": [],
   "source": [
    "import pandas as pd \n",
    "import matplotlib.pyplot as plt\n",
    "import matplotlib.patches as mpatches\n",
    "import numpy as np \n",
    "from sklearn.model_selection import cross_val_score\n",
    "from sklearn.linear_model import LinearRegression\n",
    "from sklearn.metrics import mean_squared_error, make_scorer,r2_score\n",
    "from sklearn.model_selection import train_test_split\n",
    "from numpy import absolute\n",
    "from pandas import read_csv\n",
    "from sklearn.model_selection import RepeatedKFold\n",
    "from xgboost import XGBRegressor\n",
    "from sklearn.preprocessing import StandardScaler\n",
    "from sklearn.ensemble import RandomForestRegressor\n",
    "import seaborn as sns\n"
   ]
  },
  {
   "cell_type": "code",
   "execution_count": 2,
   "id": "d39a09bb",
   "metadata": {
    "scrolled": true
   },
   "outputs": [
    {
     "data": {
      "text/html": [
       "<div>\n",
       "<style scoped>\n",
       "    .dataframe tbody tr th:only-of-type {\n",
       "        vertical-align: middle;\n",
       "    }\n",
       "\n",
       "    .dataframe tbody tr th {\n",
       "        vertical-align: top;\n",
       "    }\n",
       "\n",
       "    .dataframe thead th {\n",
       "        text-align: right;\n",
       "    }\n",
       "</style>\n",
       "<table border=\"1\" class=\"dataframe\">\n",
       "  <thead>\n",
       "    <tr style=\"text-align: right;\">\n",
       "      <th></th>\n",
       "      <th>anime_name</th>\n",
       "      <th>anime_id</th>\n",
       "      <th>type</th>\n",
       "      <th>episodes</th>\n",
       "      <th>score</th>\n",
       "      <th>rank</th>\n",
       "      <th>popularity</th>\n",
       "      <th>scored_by</th>\n",
       "      <th>likes</th>\n",
       "      <th>aired_from</th>\n",
       "      <th>aired_to</th>\n",
       "      <th>duration</th>\n",
       "      <th>Storyline</th>\n",
       "    </tr>\n",
       "  </thead>\n",
       "  <tbody>\n",
       "    <tr>\n",
       "      <th>0</th>\n",
       "      <td>Cowboy Bebop</td>\n",
       "      <td>1</td>\n",
       "      <td>TV</td>\n",
       "      <td>26.0</td>\n",
       "      <td>8.77</td>\n",
       "      <td>32.0</td>\n",
       "      <td>44</td>\n",
       "      <td>713379.0</td>\n",
       "      <td>64780</td>\n",
       "      <td>1998-04-03T00:00:00+00:00</td>\n",
       "      <td>1999-04-24T00:00:00+00:00</td>\n",
       "      <td>24 min per ep</td>\n",
       "      <td>In the year 2071, humanity has colonized sever...</td>\n",
       "    </tr>\n",
       "    <tr>\n",
       "      <th>1</th>\n",
       "      <td>Cowboy Bebop: Tengoku no Tobira</td>\n",
       "      <td>5</td>\n",
       "      <td>Movie</td>\n",
       "      <td>1.0</td>\n",
       "      <td>8.38</td>\n",
       "      <td>170.0</td>\n",
       "      <td>552</td>\n",
       "      <td>178460.0</td>\n",
       "      <td>1155</td>\n",
       "      <td>2001-09-01T00:00:00+00:00</td>\n",
       "      <td>NaN</td>\n",
       "      <td>1 hr 55 min</td>\n",
       "      <td>Another day, another bounty—such is the life o...</td>\n",
       "    </tr>\n",
       "    <tr>\n",
       "      <th>2</th>\n",
       "      <td>Trigun</td>\n",
       "      <td>6</td>\n",
       "      <td>TV</td>\n",
       "      <td>26.0</td>\n",
       "      <td>8.22</td>\n",
       "      <td>300.0</td>\n",
       "      <td>228</td>\n",
       "      <td>301980.0</td>\n",
       "      <td>12438</td>\n",
       "      <td>1998-04-01T00:00:00+00:00</td>\n",
       "      <td>1998-09-30T00:00:00+00:00</td>\n",
       "      <td>24 min per ep</td>\n",
       "      <td>Vash the Stampede is the man with a $$60,000,0...</td>\n",
       "    </tr>\n",
       "    <tr>\n",
       "      <th>3</th>\n",
       "      <td>Witch Hunter Robin</td>\n",
       "      <td>7</td>\n",
       "      <td>TV</td>\n",
       "      <td>26.0</td>\n",
       "      <td>7.26</td>\n",
       "      <td>2637.0</td>\n",
       "      <td>1605</td>\n",
       "      <td>37883.0</td>\n",
       "      <td>534</td>\n",
       "      <td>2002-07-02T00:00:00+00:00</td>\n",
       "      <td>2002-12-24T00:00:00+00:00</td>\n",
       "      <td>25 min per ep</td>\n",
       "      <td>Witches are individuals with special powers li...</td>\n",
       "    </tr>\n",
       "    <tr>\n",
       "      <th>4</th>\n",
       "      <td>Bouken Ou Beet</td>\n",
       "      <td>8</td>\n",
       "      <td>TV</td>\n",
       "      <td>52.0</td>\n",
       "      <td>6.96</td>\n",
       "      <td>3925.0</td>\n",
       "      <td>4651</td>\n",
       "      <td>5547.0</td>\n",
       "      <td>13</td>\n",
       "      <td>2004-09-30T00:00:00+00:00</td>\n",
       "      <td>2005-09-29T00:00:00+00:00</td>\n",
       "      <td>23 min per ep</td>\n",
       "      <td>It is the dark century and the people are suff...</td>\n",
       "    </tr>\n",
       "    <tr>\n",
       "      <th>...</th>\n",
       "      <td>...</td>\n",
       "      <td>...</td>\n",
       "      <td>...</td>\n",
       "      <td>...</td>\n",
       "      <td>...</td>\n",
       "      <td>...</td>\n",
       "      <td>...</td>\n",
       "      <td>...</td>\n",
       "      <td>...</td>\n",
       "      <td>...</td>\n",
       "      <td>...</td>\n",
       "      <td>...</td>\n",
       "      <td>...</td>\n",
       "    </tr>\n",
       "    <tr>\n",
       "      <th>2621</th>\n",
       "      <td>Rosario to Vampire</td>\n",
       "      <td>2993</td>\n",
       "      <td>TV</td>\n",
       "      <td>13.0</td>\n",
       "      <td>6.79</td>\n",
       "      <td>4647.0</td>\n",
       "      <td>241</td>\n",
       "      <td>346017.0</td>\n",
       "      <td>3129</td>\n",
       "      <td>2008-01-03T00:00:00+00:00</td>\n",
       "      <td>2008-03-27T00:00:00+00:00</td>\n",
       "      <td>25 min per ep</td>\n",
       "      <td>Youkai Academy is a seemingly normal boarding ...</td>\n",
       "    </tr>\n",
       "    <tr>\n",
       "      <th>2622</th>\n",
       "      <td>Death Note: Rewrite</td>\n",
       "      <td>2994</td>\n",
       "      <td>Special</td>\n",
       "      <td>2.0</td>\n",
       "      <td>7.69</td>\n",
       "      <td>1087.0</td>\n",
       "      <td>1020</td>\n",
       "      <td>77166.0</td>\n",
       "      <td>466</td>\n",
       "      <td>2007-08-31T00:00:00+00:00</td>\n",
       "      <td>2008-08-22T00:00:00+00:00</td>\n",
       "      <td>1 hr 52 min per ep</td>\n",
       "      <td>1. Genshisuru Kami (Visions of a God) A two ho...</td>\n",
       "    </tr>\n",
       "    <tr>\n",
       "      <th>2623</th>\n",
       "      <td>Hi no Tori: Houou-hen</td>\n",
       "      <td>2997</td>\n",
       "      <td>Movie</td>\n",
       "      <td>1.0</td>\n",
       "      <td>6.86</td>\n",
       "      <td>4346.0</td>\n",
       "      <td>8364</td>\n",
       "      <td>1159.0</td>\n",
       "      <td>5</td>\n",
       "      <td>1986-12-20T00:00:00+00:00</td>\n",
       "      <td>NaN</td>\n",
       "      <td>1 hr</td>\n",
       "      <td>Akanemaru, a skilled sculptor, sets out to fin...</td>\n",
       "    </tr>\n",
       "    <tr>\n",
       "      <th>2624</th>\n",
       "      <td>Hi no Tori: Uchuu-hen</td>\n",
       "      <td>2998</td>\n",
       "      <td>OVA</td>\n",
       "      <td>1.0</td>\n",
       "      <td>6.94</td>\n",
       "      <td>4021.0</td>\n",
       "      <td>8822</td>\n",
       "      <td>948.0</td>\n",
       "      <td>4</td>\n",
       "      <td>1987-12-21T00:00:00+00:00</td>\n",
       "      <td>NaN</td>\n",
       "      <td>48 min</td>\n",
       "      <td>In deep space, four astronauts discover that t...</td>\n",
       "    </tr>\n",
       "    <tr>\n",
       "      <th>2625</th>\n",
       "      <td>Hi no Tori: Yamato-hen</td>\n",
       "      <td>2999</td>\n",
       "      <td>OVA</td>\n",
       "      <td>1.0</td>\n",
       "      <td>6.76</td>\n",
       "      <td>4802.0</td>\n",
       "      <td>9230</td>\n",
       "      <td>851.0</td>\n",
       "      <td>3</td>\n",
       "      <td>1987-08-01T00:00:00+00:00</td>\n",
       "      <td>NaN</td>\n",
       "      <td>48 min</td>\n",
       "      <td>At his father's command, Oguna, the youngest p...</td>\n",
       "    </tr>\n",
       "  </tbody>\n",
       "</table>\n",
       "<p>2626 rows × 13 columns</p>\n",
       "</div>"
      ],
      "text/plain": [
       "                           anime_name  anime_id     type  episodes  score  \\\n",
       "0                        Cowboy Bebop         1       TV      26.0   8.77   \n",
       "1     Cowboy Bebop: Tengoku no Tobira         5    Movie       1.0   8.38   \n",
       "2                              Trigun         6       TV      26.0   8.22   \n",
       "3                  Witch Hunter Robin         7       TV      26.0   7.26   \n",
       "4                      Bouken Ou Beet         8       TV      52.0   6.96   \n",
       "...                               ...       ...      ...       ...    ...   \n",
       "2621               Rosario to Vampire      2993       TV      13.0   6.79   \n",
       "2622              Death Note: Rewrite      2994  Special       2.0   7.69   \n",
       "2623            Hi no Tori: Houou-hen      2997    Movie       1.0   6.86   \n",
       "2624            Hi no Tori: Uchuu-hen      2998      OVA       1.0   6.94   \n",
       "2625           Hi no Tori: Yamato-hen      2999      OVA       1.0   6.76   \n",
       "\n",
       "        rank  popularity  scored_by  likes                 aired_from  \\\n",
       "0       32.0          44   713379.0  64780  1998-04-03T00:00:00+00:00   \n",
       "1      170.0         552   178460.0   1155  2001-09-01T00:00:00+00:00   \n",
       "2      300.0         228   301980.0  12438  1998-04-01T00:00:00+00:00   \n",
       "3     2637.0        1605    37883.0    534  2002-07-02T00:00:00+00:00   \n",
       "4     3925.0        4651     5547.0     13  2004-09-30T00:00:00+00:00   \n",
       "...      ...         ...        ...    ...                        ...   \n",
       "2621  4647.0         241   346017.0   3129  2008-01-03T00:00:00+00:00   \n",
       "2622  1087.0        1020    77166.0    466  2007-08-31T00:00:00+00:00   \n",
       "2623  4346.0        8364     1159.0      5  1986-12-20T00:00:00+00:00   \n",
       "2624  4021.0        8822      948.0      4  1987-12-21T00:00:00+00:00   \n",
       "2625  4802.0        9230      851.0      3  1987-08-01T00:00:00+00:00   \n",
       "\n",
       "                       aired_to            duration  \\\n",
       "0     1999-04-24T00:00:00+00:00       24 min per ep   \n",
       "1                           NaN         1 hr 55 min   \n",
       "2     1998-09-30T00:00:00+00:00       24 min per ep   \n",
       "3     2002-12-24T00:00:00+00:00       25 min per ep   \n",
       "4     2005-09-29T00:00:00+00:00       23 min per ep   \n",
       "...                         ...                 ...   \n",
       "2621  2008-03-27T00:00:00+00:00       25 min per ep   \n",
       "2622  2008-08-22T00:00:00+00:00  1 hr 52 min per ep   \n",
       "2623                        NaN                1 hr   \n",
       "2624                        NaN              48 min   \n",
       "2625                        NaN              48 min   \n",
       "\n",
       "                                              Storyline  \n",
       "0     In the year 2071, humanity has colonized sever...  \n",
       "1     Another day, another bounty—such is the life o...  \n",
       "2     Vash the Stampede is the man with a $$60,000,0...  \n",
       "3     Witches are individuals with special powers li...  \n",
       "4     It is the dark century and the people are suff...  \n",
       "...                                                 ...  \n",
       "2621  Youkai Academy is a seemingly normal boarding ...  \n",
       "2622  1. Genshisuru Kami (Visions of a God) A two ho...  \n",
       "2623  Akanemaru, a skilled sculptor, sets out to fin...  \n",
       "2624  In deep space, four astronauts discover that t...  \n",
       "2625  At his father's command, Oguna, the youngest p...  \n",
       "\n",
       "[2626 rows x 13 columns]"
      ]
     },
     "execution_count": 2,
     "metadata": {},
     "output_type": "execute_result"
    }
   ],
   "source": [
    "df=pd.read_csv('anime project.csv')\n",
    "df"
   ]
  },
  {
   "cell_type": "markdown",
   "id": "89b445f5",
   "metadata": {},
   "source": [
    "# Data Visualization \n"
   ]
  },
  {
   "cell_type": "code",
   "execution_count": 3,
   "id": "9beffee5",
   "metadata": {},
   "outputs": [
    {
     "data": {
      "image/png": "[encoded data removed]",
      "text/plain": [
       "<Figure size 432x288 with 1 Axes>"
      ]
     },
     "metadata": {
      "needs_background": "light"
     },
     "output_type": "display_data"
    },
    {
     "name": "stdout",
     "output_type": "stream",
     "text": [
      "The correlation between rank and score is:-0.9761010046993123\n"
     ]
    }
   ],
   "source": [
    "plt.scatter(df['score'],df['rank'])\n",
    "plt.xlabel('score')\n",
    "plt.ylabel('rank')\n",
    "plt.show()\n",
    "print('The correlation between rank and score is:'+ str(df['score'].corr(df['rank'])))"
   ]
  },
  {
   "cell_type": "code",
   "execution_count": 34,
   "id": "65325da4",
   "metadata": {},
   "outputs": [
    {
     "data": {
      "image/png": "[encoded data removed]",
      "text/plain": [
       "<Figure size 640x480 with 1 Axes>"
      ]
     },
     "metadata": {},
     "output_type": "display_data"
    },
    {
     "data": {
      "text/plain": [
       "<Figure size 240x240 with 0 Axes>"
      ]
     },
     "metadata": {},
     "output_type": "display_data"
    }
   ],
   "source": [
    "percentagetype=df.groupby(by=[\"type\"]).size()\n",
    "plt.pie(percentagetype)\n",
    "red_patch = mpatches.Patch(color='c', label='OVA')\n",
    "green_patch=mpatches.Patch(color='r',label='ONA')\n",
    "blue_patch=mpatches.Patch(color='b',label='Movie')\n",
    "purple_patch=mpatches.Patch(color='m',label='Special')\n",
    "brown_patch=mpatches.Patch(color='yellow',label='TV')\n",
    "yellow_patch=mpatches.Patch(color='green',label='Music')\n",
    "plt.legend(handles=[red_patch,green_patch,blue_patch,purple_patch,brown_patch,yellow_patch],bbox_to_anchor=(1,1.025), loc=\"upper left\")\n",
    "plt.figure(figsize=(3,3 ))\n",
    "plt.show()\n"
   ]
  },
  {
   "cell_type": "code",
   "execution_count": 5,
   "id": "70184ea6",
   "metadata": {},
   "outputs": [
    {
     "data": {
      "image/png": "[encoded data removed]",
      "text/plain": [
       "<Figure size 432x288 with 1 Axes>"
      ]
     },
     "metadata": {},
     "output_type": "display_data"
    },
    {
     "data": {
      "text/plain": [
       "<Figure size 72x72 with 0 Axes>"
      ]
     },
     "metadata": {},
     "output_type": "display_data"
    }
   ],
   "source": [
    "avg_n_of_episodes_per_type=df.groupby('type', as_index=False)['episodes'].mean()\n",
    "avg_n_of_episodes_per_type.values.reshape(1,-1)\n",
    "plt.style.use('dark_background')\n",
    "plt.bar(avg_n_of_episodes_per_type['type'],avg_n_of_episodes_per_type['episodes'],color='orange')\n",
    "plt.xlabel(' type')\n",
    "plt.ylabel('average number of episodes ')\n",
    "plt.figure(figsize=(1, 1))\n",
    "plt.show()"
   ]
  },
  {
   "cell_type": "code",
   "execution_count": 6,
   "id": "162e0527",
   "metadata": {},
   "outputs": [
    {
     "data": {
      "image/png": "[encoded data removed]",
      "text/plain": [
       "<Figure size 640x480 with 1 Axes>"
      ]
     },
     "metadata": {},
     "output_type": "display_data"
    },
    {
     "name": "stdout",
     "output_type": "stream",
     "text": [
      "The most popular animes are also the least liked ones\n"
     ]
    },
    {
     "data": {
      "image/png": "[encoded data removed]",
      "text/plain": [
       "<Figure size 640x480 with 1 Axes>"
      ]
     },
     "metadata": {},
     "output_type": "display_data"
    },
    {
     "data": {
      "text/plain": [
       "<Figure size 640x480 with 0 Axes>"
      ]
     },
     "metadata": {},
     "output_type": "display_data"
    }
   ],
   "source": [
    "plt.style.use('classic')\n",
    "plt.scatter(df['likes'],df['popularity'])\n",
    "plt.xlabel('likes')\n",
    "plt.ylabel('popularity')\n",
    "plt.show()\n",
    "print('The most popular animes are also the least liked ones')\n",
    "plt.scatter(df['likes'],df['scored_by'])\n",
    "plt.xlabel('likes')\n",
    "plt.ylabel('scored_by')\n",
    "plt.figure(figsize=(8, 6))\n",
    "plt.show()"
   ]
  },
  {
   "cell_type": "markdown",
   "id": "4f5ec807",
   "metadata": {},
   "source": [
    "# Regression models "
   ]
  },
  {
   "cell_type": "code",
   "execution_count": 7,
   "id": "17db52c7",
   "metadata": {},
   "outputs": [
    {
     "data": {
      "image/png": "[encoded data removed]",
      "text/plain": [
       "<Figure size 640x480 with 1 Axes>"
      ]
     },
     "metadata": {},
     "output_type": "display_data"
    }
   ],
   "source": [
    "#Plotting distribution of target variable 'likes'\n",
    "plt.hist(df['likes'], color = 'blue', edgecolor = 'black',bins = int(20))\n",
    "plt.xlabel('likes ')\n",
    "plt.show()"
   ]
  },
  {
   "cell_type": "code",
   "execution_count": 8,
   "id": "550e66a7",
   "metadata": {},
   "outputs": [
    {
     "name": "stdout",
     "output_type": "stream",
     "text": [
      "aired_to      0.320259\n",
      "rank          0.087205\n",
      "Storyline     0.007616\n",
      "score         0.004570\n",
      "scored_by     0.004570\n",
      "episodes      0.002285\n",
      "anime_name    0.000000\n",
      "anime_id      0.000000\n",
      "type          0.000000\n",
      "popularity    0.000000\n",
      "dtype: float64\n"
     ]
    }
   ],
   "source": [
    "#Checking for null values \n",
    "MVpercentages = (df.isnull().sum()/df.shape[0]).sort_values(ascending=False)\n",
    "print(MVpercentages.head(10))"
   ]
  },
  {
   "cell_type": "code",
   "execution_count": 9,
   "id": "6e43d6d9",
   "metadata": {},
   "outputs": [
    {
     "data": {
      "text/html": [
       "<div>\n",
       "<style scoped>\n",
       "    .dataframe tbody tr th:only-of-type {\n",
       "        vertical-align: middle;\n",
       "    }\n",
       "\n",
       "    .dataframe tbody tr th {\n",
       "        vertical-align: top;\n",
       "    }\n",
       "\n",
       "    .dataframe thead th {\n",
       "        text-align: right;\n",
       "    }\n",
       "</style>\n",
       "<table border=\"1\" class=\"dataframe\">\n",
       "  <thead>\n",
       "    <tr style=\"text-align: right;\">\n",
       "      <th></th>\n",
       "      <th>anime_name</th>\n",
       "      <th>anime_id</th>\n",
       "      <th>type</th>\n",
       "      <th>episodes</th>\n",
       "      <th>score</th>\n",
       "      <th>rank</th>\n",
       "      <th>popularity</th>\n",
       "      <th>scored_by</th>\n",
       "      <th>likes</th>\n",
       "      <th>aired_from</th>\n",
       "      <th>aired_to</th>\n",
       "      <th>duration</th>\n",
       "      <th>Storyline</th>\n",
       "    </tr>\n",
       "  </thead>\n",
       "  <tbody>\n",
       "    <tr>\n",
       "      <th>163</th>\n",
       "      <td>Gosenzo San'e</td>\n",
       "      <td>188</td>\n",
       "      <td>OVA</td>\n",
       "      <td>4.0</td>\n",
       "      <td>6.09</td>\n",
       "      <td>NaN</td>\n",
       "      <td>8788</td>\n",
       "      <td>818.0</td>\n",
       "      <td>5</td>\n",
       "      <td>1998-09-25T00:00:00+00:00</td>\n",
       "      <td>1999-03-25T00:00:00+00:00</td>\n",
       "      <td>30 min per ep</td>\n",
       "      <td>Masquerade is the story surrounding the Hiraga...</td>\n",
       "    </tr>\n",
       "    <tr>\n",
       "      <th>178</th>\n",
       "      <td>Words Worth</td>\n",
       "      <td>203</td>\n",
       "      <td>OVA</td>\n",
       "      <td>5.0</td>\n",
       "      <td>6.75</td>\n",
       "      <td>NaN</td>\n",
       "      <td>5841</td>\n",
       "      <td>3266.0</td>\n",
       "      <td>31</td>\n",
       "      <td>1999-08-25T00:00:00+00:00</td>\n",
       "      <td>2000-11-25T00:00:00+00:00</td>\n",
       "      <td>28 min per ep</td>\n",
       "      <td>The legend has survived for generation. The Wo...</td>\n",
       "    </tr>\n",
       "    <tr>\n",
       "      <th>185</th>\n",
       "      <td>Pure Mail</td>\n",
       "      <td>211</td>\n",
       "      <td>OVA</td>\n",
       "      <td>2.0</td>\n",
       "      <td>6.24</td>\n",
       "      <td>NaN</td>\n",
       "      <td>8113</td>\n",
       "      <td>1284.0</td>\n",
       "      <td>13</td>\n",
       "      <td>2001-09-25T00:00:00+00:00</td>\n",
       "      <td>2001-12-21T00:00:00+00:00</td>\n",
       "      <td>29 min per ep</td>\n",
       "      <td>Episode 1: \"There is no need for relationships...</td>\n",
       "    </tr>\n",
       "    <tr>\n",
       "      <th>187</th>\n",
       "      <td>Pia Carrot e Youkoso!!</td>\n",
       "      <td>213</td>\n",
       "      <td>OVA</td>\n",
       "      <td>3.0</td>\n",
       "      <td>6.00</td>\n",
       "      <td>NaN</td>\n",
       "      <td>8180</td>\n",
       "      <td>1132.0</td>\n",
       "      <td>5</td>\n",
       "      <td>1997-10-24T00:00:00+00:00</td>\n",
       "      <td>1998-04-24T00:00:00+00:00</td>\n",
       "      <td>27 min per ep</td>\n",
       "      <td>Yusuke Kinoshita is forced by his father to wo...</td>\n",
       "    </tr>\n",
       "    <tr>\n",
       "      <th>188</th>\n",
       "      <td>Pia Carrot e Youkoso!! 2</td>\n",
       "      <td>214</td>\n",
       "      <td>OVA</td>\n",
       "      <td>3.0</td>\n",
       "      <td>6.12</td>\n",
       "      <td>NaN</td>\n",
       "      <td>9151</td>\n",
       "      <td>804.0</td>\n",
       "      <td>5</td>\n",
       "      <td>1998-10-23T00:00:00+00:00</td>\n",
       "      <td>1999-04-23T00:00:00+00:00</td>\n",
       "      <td>28 min per ep</td>\n",
       "      <td>Yusuke (from the first Pia Carrot series) retu...</td>\n",
       "    </tr>\n",
       "    <tr>\n",
       "      <th>...</th>\n",
       "      <td>...</td>\n",
       "      <td>...</td>\n",
       "      <td>...</td>\n",
       "      <td>...</td>\n",
       "      <td>...</td>\n",
       "      <td>...</td>\n",
       "      <td>...</td>\n",
       "      <td>...</td>\n",
       "      <td>...</td>\n",
       "      <td>...</td>\n",
       "      <td>...</td>\n",
       "      <td>...</td>\n",
       "      <td>...</td>\n",
       "    </tr>\n",
       "    <tr>\n",
       "      <th>2612</th>\n",
       "      <td>Yuuwaku</td>\n",
       "      <td>2982</td>\n",
       "      <td>OVA</td>\n",
       "      <td>2.0</td>\n",
       "      <td>6.51</td>\n",
       "      <td>NaN</td>\n",
       "      <td>6613</td>\n",
       "      <td>2074.0</td>\n",
       "      <td>23</td>\n",
       "      <td>2003-07-25T00:00:00+00:00</td>\n",
       "      <td>2003-10-31T00:00:00+00:00</td>\n",
       "      <td>30 min per ep</td>\n",
       "      <td>Unable to resist his animal urges, a professor...</td>\n",
       "    </tr>\n",
       "    <tr>\n",
       "      <th>2617</th>\n",
       "      <td>Mahou Shoujo Ai</td>\n",
       "      <td>2988</td>\n",
       "      <td>OVA</td>\n",
       "      <td>5.0</td>\n",
       "      <td>6.52</td>\n",
       "      <td>NaN</td>\n",
       "      <td>5852</td>\n",
       "      <td>2595.0</td>\n",
       "      <td>31</td>\n",
       "      <td>2003-08-25T00:00:00+00:00</td>\n",
       "      <td>2005-02-25T00:00:00+00:00</td>\n",
       "      <td>27 min per ep</td>\n",
       "      <td>In a certain town, there were consecutive phan...</td>\n",
       "    </tr>\n",
       "    <tr>\n",
       "      <th>2618</th>\n",
       "      <td>Classmate no Okaasan</td>\n",
       "      <td>2989</td>\n",
       "      <td>OVA</td>\n",
       "      <td>2.0</td>\n",
       "      <td>6.01</td>\n",
       "      <td>NaN</td>\n",
       "      <td>6836</td>\n",
       "      <td>1826.0</td>\n",
       "      <td>11</td>\n",
       "      <td>2007-04-13T00:00:00+00:00</td>\n",
       "      <td>2007-07-13T00:00:00+00:00</td>\n",
       "      <td>28 min per ep</td>\n",
       "      <td>Jun is in his second year of high school. He l...</td>\n",
       "    </tr>\n",
       "    <tr>\n",
       "      <th>2619</th>\n",
       "      <td>Mini Skirt Gakuen</td>\n",
       "      <td>2990</td>\n",
       "      <td>OVA</td>\n",
       "      <td>1.0</td>\n",
       "      <td>4.43</td>\n",
       "      <td>NaN</td>\n",
       "      <td>10279</td>\n",
       "      <td>509.0</td>\n",
       "      <td>3</td>\n",
       "      <td>2001-12-21T00:00:00+00:00</td>\n",
       "      <td>NaN</td>\n",
       "      <td>19 min</td>\n",
       "      <td>Under the uniforms of this girls volleyball te...</td>\n",
       "    </tr>\n",
       "    <tr>\n",
       "      <th>2620</th>\n",
       "      <td>Harumi-chan no Oita</td>\n",
       "      <td>2991</td>\n",
       "      <td>OVA</td>\n",
       "      <td>1.0</td>\n",
       "      <td>5.19</td>\n",
       "      <td>NaN</td>\n",
       "      <td>8489</td>\n",
       "      <td>1176.0</td>\n",
       "      <td>6</td>\n",
       "      <td>2001-03-16T00:00:00+00:00</td>\n",
       "      <td>NaN</td>\n",
       "      <td>23 min</td>\n",
       "      <td>Wafaru is a guy next door. One day he saw a li...</td>\n",
       "    </tr>\n",
       "  </tbody>\n",
       "</table>\n",
       "<p>229 rows × 13 columns</p>\n",
       "</div>"
      ],
      "text/plain": [
       "                    anime_name  anime_id type  episodes  score  rank  \\\n",
       "163              Gosenzo San'e       188  OVA       4.0   6.09   NaN   \n",
       "178                Words Worth       203  OVA       5.0   6.75   NaN   \n",
       "185                  Pure Mail       211  OVA       2.0   6.24   NaN   \n",
       "187     Pia Carrot e Youkoso!!       213  OVA       3.0   6.00   NaN   \n",
       "188   Pia Carrot e Youkoso!! 2       214  OVA       3.0   6.12   NaN   \n",
       "...                        ...       ...  ...       ...    ...   ...   \n",
       "2612                   Yuuwaku      2982  OVA       2.0   6.51   NaN   \n",
       "2617           Mahou Shoujo Ai      2988  OVA       5.0   6.52   NaN   \n",
       "2618      Classmate no Okaasan      2989  OVA       2.0   6.01   NaN   \n",
       "2619         Mini Skirt Gakuen      2990  OVA       1.0   4.43   NaN   \n",
       "2620       Harumi-chan no Oita      2991  OVA       1.0   5.19   NaN   \n",
       "\n",
       "      popularity  scored_by  likes                 aired_from  \\\n",
       "163         8788      818.0      5  1998-09-25T00:00:00+00:00   \n",
       "178         5841     3266.0     31  1999-08-25T00:00:00+00:00   \n",
       "185         8113     1284.0     13  2001-09-25T00:00:00+00:00   \n",
       "187         8180     1132.0      5  1997-10-24T00:00:00+00:00   \n",
       "188         9151      804.0      5  1998-10-23T00:00:00+00:00   \n",
       "...          ...        ...    ...                        ...   \n",
       "2612        6613     2074.0     23  2003-07-25T00:00:00+00:00   \n",
       "2617        5852     2595.0     31  2003-08-25T00:00:00+00:00   \n",
       "2618        6836     1826.0     11  2007-04-13T00:00:00+00:00   \n",
       "2619       10279      509.0      3  2001-12-21T00:00:00+00:00   \n",
       "2620        8489     1176.0      6  2001-03-16T00:00:00+00:00   \n",
       "\n",
       "                       aired_to       duration  \\\n",
       "163   1999-03-25T00:00:00+00:00  30 min per ep   \n",
       "178   2000-11-25T00:00:00+00:00  28 min per ep   \n",
       "185   2001-12-21T00:00:00+00:00  29 min per ep   \n",
       "187   1998-04-24T00:00:00+00:00  27 min per ep   \n",
       "188   1999-04-23T00:00:00+00:00  28 min per ep   \n",
       "...                         ...            ...   \n",
       "2612  2003-10-31T00:00:00+00:00  30 min per ep   \n",
       "2617  2005-02-25T00:00:00+00:00  27 min per ep   \n",
       "2618  2007-07-13T00:00:00+00:00  28 min per ep   \n",
       "2619                        NaN         19 min   \n",
       "2620                        NaN         23 min   \n",
       "\n",
       "                                              Storyline  \n",
       "163   Masquerade is the story surrounding the Hiraga...  \n",
       "178   The legend has survived for generation. The Wo...  \n",
       "185   Episode 1: \"There is no need for relationships...  \n",
       "187   Yusuke Kinoshita is forced by his father to wo...  \n",
       "188   Yusuke (from the first Pia Carrot series) retu...  \n",
       "...                                                 ...  \n",
       "2612  Unable to resist his animal urges, a professor...  \n",
       "2617  In a certain town, there were consecutive phan...  \n",
       "2618  Jun is in his second year of high school. He l...  \n",
       "2619  Under the uniforms of this girls volleyball te...  \n",
       "2620  Wafaru is a guy next door. One day he saw a li...  \n",
       "\n",
       "[229 rows x 13 columns]"
      ]
     },
     "execution_count": 9,
     "metadata": {},
     "output_type": "execute_result"
    }
   ],
   "source": [
    "#Looking for instances with null values in the rank column\n",
    "NaN_rows = df[df['rank'].isnull()]\n",
    "NaN_rows"
   ]
  },
  {
   "cell_type": "code",
   "execution_count": 10,
   "id": "ac14fb15",
   "metadata": {},
   "outputs": [
    {
     "data": {
      "text/plain": [
       "(2385, 13)"
      ]
     },
     "execution_count": 10,
     "metadata": {},
     "output_type": "execute_result"
    }
   ],
   "source": [
    "#deleting instances with null values \n",
    "df.dropna(subset=['rank','score','scored_by'], inplace=True)\n",
    "df.replace([np.inf, -np.inf], np.nan, inplace=True)\n",
    "df.shape"
   ]
  },
  {
   "cell_type": "code",
   "execution_count": 11,
   "id": "54648a9c",
   "metadata": {},
   "outputs": [],
   "source": [
    "#Creating predictors and target variable \n",
    "X=df [['score','rank','popularity','scored_by']]\n",
    "Y=df['likes']\n",
    "Y=Y.values.reshape(-1,1)\n"
   ]
  },
  {
   "cell_type": "code",
   "execution_count": 12,
   "id": "649b1def",
   "metadata": {},
   "outputs": [
    {
     "data": {
      "image/png": "[encoded data removed]",
      "text/plain": [
       "<Figure size 640x480 with 1 Axes>"
      ]
     },
     "metadata": {},
     "output_type": "display_data"
    }
   ],
   "source": [
    "#Normalizing the distribution of the target variable likes \n",
    "scaler=StandardScaler()\n",
    "Y=scaler.fit_transform(Y)\n",
    "X=scaler.fit_transform(X)\n",
    "plt.hist(df['likes'], color = 'blue', edgecolor = 'black',\n",
    "         bins = int(20))\n",
    "plt.xlabel('likes normalized')\n",
    "plt.show()"
   ]
  },
  {
   "cell_type": "code",
   "execution_count": 13,
   "id": "469fbb43",
   "metadata": {},
   "outputs": [],
   "source": [
    "#Performing a train-test split\n",
    "X_train, X_test, Y_train, Y_test = train_test_split(X, Y, test_size=0.25, random_state=42)"
   ]
  },
  {
   "cell_type": "code",
   "execution_count": 14,
   "id": "e36d1b2a",
   "metadata": {},
   "outputs": [
    {
     "name": "stdout",
     "output_type": "stream",
     "text": [
      "Rsquared of the Linear Regression model is: 0.7360141405427469\n"
     ]
    }
   ],
   "source": [
    "#1st model with a simple multivariate linear regression \n",
    "model1=LinearRegression()\n",
    "model1.fit(X_train,Y_train)\n",
    "Y_pred = model1.predict(X_test)\n",
    "print('Rsquared of the Linear Regression model is: '+ str(r2_score(Y_pred,Y_test)))"
   ]
  },
  {
   "cell_type": "code",
   "execution_count": 15,
   "id": "6e645e3b",
   "metadata": {},
   "outputs": [
    {
     "name": "stdout",
     "output_type": "stream",
     "text": [
      "R2 squared of the Random forest model is:0.8154562187061573\n"
     ]
    }
   ],
   "source": [
    "#2nd model with Random forest regressor.We're using cross validation since we only have a few thousands of observations\n",
    "model2 = RandomForestRegressor(n_estimators=20, random_state=0)\n",
    "model2.fit(X_train, np.ravel(Y_train, order='c'))\n",
    "Y_pred2=model2.predict(X_test)\n",
    "print('R2 squared of the Random forest model is:' +str(r2_score(Y_pred2,Y_test)))"
   ]
  },
  {
   "cell_type": "code",
   "execution_count": 16,
   "id": "835be8f2",
   "metadata": {},
   "outputs": [
    {
     "name": "stderr",
     "output_type": "stream",
     "text": [
      "/opt/anaconda3/lib/python3.8/site-packages/sklearn/model_selection/_validation.py:593: DataConversionWarning: A column-vector y was passed when a 1d array was expected. Please change the shape of y to (n_samples,), for example using ravel().\n",
      "  estimator.fit(X_train, y_train, **fit_params)\n",
      "/opt/anaconda3/lib/python3.8/site-packages/sklearn/model_selection/_validation.py:593: DataConversionWarning: A column-vector y was passed when a 1d array was expected. Please change the shape of y to (n_samples,), for example using ravel().\n",
      "  estimator.fit(X_train, y_train, **fit_params)\n",
      "/opt/anaconda3/lib/python3.8/site-packages/sklearn/model_selection/_validation.py:593: DataConversionWarning: A column-vector y was passed when a 1d array was expected. Please change the shape of y to (n_samples,), for example using ravel().\n",
      "  estimator.fit(X_train, y_train, **fit_params)\n"
     ]
    },
    {
     "name": "stdout",
     "output_type": "stream",
     "text": [
      "[0.6789072  0.79779563 0.85732579 0.95426985 0.87615102]\n",
      "Mean 5-Fold R Squared of the Random Forest model is: 0.8328898966127319\n"
     ]
    },
    {
     "name": "stderr",
     "output_type": "stream",
     "text": [
      "/opt/anaconda3/lib/python3.8/site-packages/sklearn/model_selection/_validation.py:593: DataConversionWarning: A column-vector y was passed when a 1d array was expected. Please change the shape of y to (n_samples,), for example using ravel().\n",
      "  estimator.fit(X_train, y_train, **fit_params)\n",
      "/opt/anaconda3/lib/python3.8/site-packages/sklearn/model_selection/_validation.py:593: DataConversionWarning: A column-vector y was passed when a 1d array was expected. Please change the shape of y to (n_samples,), for example using ravel().\n",
      "  estimator.fit(X_train, y_train, **fit_params)\n"
     ]
    }
   ],
   "source": [
    "#2 model with Random forest but with cross validation score and not simply train-test splot\n",
    "model2cv=RandomForestRegressor(n_estimators=20,random_state=0)\n",
    "cv_r2_scores_rf = cross_val_score(model2cv, X, Y, cv=5,scoring='r2')\n",
    "print(cv_r2_scores_rf)\n",
    "print(\"Mean 5-Fold R Squared of the Random Forest model is: {}\".format(np.mean(cv_r2_scores_rf)))"
   ]
  },
  {
   "cell_type": "code",
   "execution_count": 17,
   "id": "c2d6b423",
   "metadata": {},
   "outputs": [
    {
     "name": "stdout",
     "output_type": "stream",
     "text": [
      "The Rsquared of the XGBoost model is: 0.8119881157925052\n"
     ]
    }
   ],
   "source": [
    "#3rd model with Extreme Gradient boosting \n",
    "model3=XGBRegressor()\n",
    "model3.fit(X_train,Y_train)\n",
    "Y_pred3= model3.predict(X_test)\n",
    "print('The Rsquared of the XGBoost model is: '+ str(r2_score(Y_pred3,Y_test)))"
   ]
  },
  {
   "cell_type": "code",
   "execution_count": 18,
   "id": "5f0108c2",
   "metadata": {},
   "outputs": [
    {
     "name": "stdout",
     "output_type": "stream",
     "text": [
      "[0.63207088 0.81876946 0.96631497 0.8253021  0.80868067]\n",
      "Mean 5-Fold R Squared of the XGBoost model is: 0.8102276182949104\n"
     ]
    }
   ],
   "source": [
    "#3rd modek with Extreme Gradient boosting but with cross validation score and not mere train-test split \n",
    "model3cv=XGBRegressor()\n",
    "cv_r2_scores_rf = cross_val_score(model3cv, X, Y, cv=5,scoring='r2')\n",
    "print(cv_r2_scores_rf)\n",
    "print(\"Mean 5-Fold R Squared of the XGBoost model is: {}\".format(np.mean(cv_r2_scores_rf)))"
   ]
  }
 ],
 "metadata": {
  "kernelspec": {
   "display_name": "Python 3",
   "language": "python",
   "name": "python3"
  },
  "language_info": {
   "codemirror_mode": {
    "name": "ipython",
    "version": 3
   },
   "file_extension": ".py",
   "mimetype": "text/x-python",
   "name": "python",
   "nbconvert_exporter": "python",
   "pygments_lexer": "ipython3",
   "version": "3.8.8"
  }
 },
 "nbformat": 4,
 "nbformat_minor": 5
}
