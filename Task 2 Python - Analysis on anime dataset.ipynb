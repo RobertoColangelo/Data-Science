{
 "cells": [
  {
   "cell_type": "markdown",
   "id": "9f5bfff3",
   "metadata": {},
   "source": [
    "# Importing libraries \n",
    "For the second part of the project, we had to mainpulate, visualize and analyze the dataset from the previous task. In order to do this, we imported the library needed for data visualization (matplotlib and seaborn), manipulation (numpy and pandas) and analysis (sklearn and XGBoost)."
   ]
  },
  {
   "cell_type": "code",
   "execution_count": 1,
   "id": "f6066f9e",
   "metadata": {},
   "outputs": [],
   "source": [
    "import pandas as pd \n",
    "import matplotlib.pyplot as plt\n",
    "import matplotlib.patches as mpatches\n",
    "import numpy as np \n",
    "from sklearn.model_selection import cross_val_score\n",
    "from sklearn.linear_model import LinearRegression\n",
    "from sklearn.metrics import mean_squared_error, make_scorer,r2_score\n",
    "from sklearn.model_selection import train_test_split\n",
    "from numpy import absolute\n",
    "from pandas import read_csv\n",
    "from sklearn.model_selection import RepeatedKFold\n",
    "from xgboost import XGBRegressor\n",
    "from sklearn.preprocessing import StandardScaler\n",
    "from sklearn.ensemble import RandomForestRegressor\n",
    "import seaborn as sns\n"
   ]
  },
  {
   "cell_type": "markdown",
   "id": "aa86c550",
   "metadata": {},
   "source": [
    "## Importing dataset "
   ]
  },
  {
   "cell_type": "code",
   "execution_count": 2,
   "id": "d39a09bb",
   "metadata": {
    "scrolled": true
   },
   "outputs": [
    {
     "data": {
      "text/html": [
       "<div>\n",
       "<style scoped>\n",
       "    .dataframe tbody tr th:only-of-type {\n",
       "        vertical-align: middle;\n",
       "    }\n",
       "\n",
       "    .dataframe tbody tr th {\n",
       "        vertical-align: top;\n",
       "    }\n",
       "\n",
       "    .dataframe thead th {\n",
       "        text-align: right;\n",
       "    }\n",
       "</style>\n",
       "<table border=\"1\" class=\"dataframe\">\n",
       "  <thead>\n",
       "    <tr style=\"text-align: right;\">\n",
       "      <th></th>\n",
       "      <th>anime_name</th>\n",
       "      <th>anime_id</th>\n",
       "      <th>type</th>\n",
       "      <th>episodes</th>\n",
       "      <th>score</th>\n",
       "      <th>rank</th>\n",
       "      <th>popularity</th>\n",
       "      <th>scored_by</th>\n",
       "      <th>likes</th>\n",
       "      <th>aired_from</th>\n",
       "      <th>aired_to</th>\n",
       "      <th>duration</th>\n",
       "      <th>Storyline</th>\n",
       "    </tr>\n",
       "  </thead>\n",
       "  <tbody>\n",
       "    <tr>\n",
       "      <th>0</th>\n",
       "      <td>Cowboy Bebop</td>\n",
       "      <td>1</td>\n",
       "      <td>TV</td>\n",
       "      <td>26.0</td>\n",
       "      <td>8.77</td>\n",
       "      <td>32.0</td>\n",
       "      <td>44</td>\n",
       "      <td>713379.0</td>\n",
       "      <td>64780</td>\n",
       "      <td>1998-04-03T00:00:00+00:00</td>\n",
       "      <td>1999-04-24T00:00:00+00:00</td>\n",
       "      <td>24 min per ep</td>\n",
       "      <td>In the year 2071, humanity has colonized sever...</td>\n",
       "    </tr>\n",
       "    <tr>\n",
       "      <th>1</th>\n",
       "      <td>Cowboy Bebop: Tengoku no Tobira</td>\n",
       "      <td>5</td>\n",
       "      <td>Movie</td>\n",
       "      <td>1.0</td>\n",
       "      <td>8.38</td>\n",
       "      <td>170.0</td>\n",
       "      <td>552</td>\n",
       "      <td>178460.0</td>\n",
       "      <td>1155</td>\n",
       "      <td>2001-09-01T00:00:00+00:00</td>\n",
       "      <td>NaN</td>\n",
       "      <td>1 hr 55 min</td>\n",
       "      <td>Another day, another bounty—such is the life o...</td>\n",
       "    </tr>\n",
       "    <tr>\n",
       "      <th>2</th>\n",
       "      <td>Trigun</td>\n",
       "      <td>6</td>\n",
       "      <td>TV</td>\n",
       "      <td>26.0</td>\n",
       "      <td>8.22</td>\n",
       "      <td>300.0</td>\n",
       "      <td>228</td>\n",
       "      <td>301980.0</td>\n",
       "      <td>12438</td>\n",
       "      <td>1998-04-01T00:00:00+00:00</td>\n",
       "      <td>1998-09-30T00:00:00+00:00</td>\n",
       "      <td>24 min per ep</td>\n",
       "      <td>Vash the Stampede is the man with a $$60,000,0...</td>\n",
       "    </tr>\n",
       "    <tr>\n",
       "      <th>3</th>\n",
       "      <td>Witch Hunter Robin</td>\n",
       "      <td>7</td>\n",
       "      <td>TV</td>\n",
       "      <td>26.0</td>\n",
       "      <td>7.26</td>\n",
       "      <td>2637.0</td>\n",
       "      <td>1605</td>\n",
       "      <td>37883.0</td>\n",
       "      <td>534</td>\n",
       "      <td>2002-07-02T00:00:00+00:00</td>\n",
       "      <td>2002-12-24T00:00:00+00:00</td>\n",
       "      <td>25 min per ep</td>\n",
       "      <td>Witches are individuals with special powers li...</td>\n",
       "    </tr>\n",
       "    <tr>\n",
       "      <th>4</th>\n",
       "      <td>Bouken Ou Beet</td>\n",
       "      <td>8</td>\n",
       "      <td>TV</td>\n",
       "      <td>52.0</td>\n",
       "      <td>6.96</td>\n",
       "      <td>3925.0</td>\n",
       "      <td>4651</td>\n",
       "      <td>5547.0</td>\n",
       "      <td>13</td>\n",
       "      <td>2004-09-30T00:00:00+00:00</td>\n",
       "      <td>2005-09-29T00:00:00+00:00</td>\n",
       "      <td>23 min per ep</td>\n",
       "      <td>It is the dark century and the people are suff...</td>\n",
       "    </tr>\n",
       "    <tr>\n",
       "      <th>...</th>\n",
       "      <td>...</td>\n",
       "      <td>...</td>\n",
       "      <td>...</td>\n",
       "      <td>...</td>\n",
       "      <td>...</td>\n",
       "      <td>...</td>\n",
       "      <td>...</td>\n",
       "      <td>...</td>\n",
       "      <td>...</td>\n",
       "      <td>...</td>\n",
       "      <td>...</td>\n",
       "      <td>...</td>\n",
       "      <td>...</td>\n",
       "    </tr>\n",
       "    <tr>\n",
       "      <th>2621</th>\n",
       "      <td>Rosario to Vampire</td>\n",
       "      <td>2993</td>\n",
       "      <td>TV</td>\n",
       "      <td>13.0</td>\n",
       "      <td>6.79</td>\n",
       "      <td>4647.0</td>\n",
       "      <td>241</td>\n",
       "      <td>346017.0</td>\n",
       "      <td>3129</td>\n",
       "      <td>2008-01-03T00:00:00+00:00</td>\n",
       "      <td>2008-03-27T00:00:00+00:00</td>\n",
       "      <td>25 min per ep</td>\n",
       "      <td>Youkai Academy is a seemingly normal boarding ...</td>\n",
       "    </tr>\n",
       "    <tr>\n",
       "      <th>2622</th>\n",
       "      <td>Death Note: Rewrite</td>\n",
       "      <td>2994</td>\n",
       "      <td>Special</td>\n",
       "      <td>2.0</td>\n",
       "      <td>7.69</td>\n",
       "      <td>1087.0</td>\n",
       "      <td>1020</td>\n",
       "      <td>77166.0</td>\n",
       "      <td>466</td>\n",
       "      <td>2007-08-31T00:00:00+00:00</td>\n",
       "      <td>2008-08-22T00:00:00+00:00</td>\n",
       "      <td>1 hr 52 min per ep</td>\n",
       "      <td>1. Genshisuru Kami (Visions of a God) A two ho...</td>\n",
       "    </tr>\n",
       "    <tr>\n",
       "      <th>2623</th>\n",
       "      <td>Hi no Tori: Houou-hen</td>\n",
       "      <td>2997</td>\n",
       "      <td>Movie</td>\n",
       "      <td>1.0</td>\n",
       "      <td>6.86</td>\n",
       "      <td>4346.0</td>\n",
       "      <td>8364</td>\n",
       "      <td>1159.0</td>\n",
       "      <td>5</td>\n",
       "      <td>1986-12-20T00:00:00+00:00</td>\n",
       "      <td>NaN</td>\n",
       "      <td>1 hr</td>\n",
       "      <td>Akanemaru, a skilled sculptor, sets out to fin...</td>\n",
       "    </tr>\n",
       "    <tr>\n",
       "      <th>2624</th>\n",
       "      <td>Hi no Tori: Uchuu-hen</td>\n",
       "      <td>2998</td>\n",
       "      <td>OVA</td>\n",
       "      <td>1.0</td>\n",
       "      <td>6.94</td>\n",
       "      <td>4021.0</td>\n",
       "      <td>8822</td>\n",
       "      <td>948.0</td>\n",
       "      <td>4</td>\n",
       "      <td>1987-12-21T00:00:00+00:00</td>\n",
       "      <td>NaN</td>\n",
       "      <td>48 min</td>\n",
       "      <td>In deep space, four astronauts discover that t...</td>\n",
       "    </tr>\n",
       "    <tr>\n",
       "      <th>2625</th>\n",
       "      <td>Hi no Tori: Yamato-hen</td>\n",
       "      <td>2999</td>\n",
       "      <td>OVA</td>\n",
       "      <td>1.0</td>\n",
       "      <td>6.76</td>\n",
       "      <td>4802.0</td>\n",
       "      <td>9230</td>\n",
       "      <td>851.0</td>\n",
       "      <td>3</td>\n",
       "      <td>1987-08-01T00:00:00+00:00</td>\n",
       "      <td>NaN</td>\n",
       "      <td>48 min</td>\n",
       "      <td>At his father's command, Oguna, the youngest p...</td>\n",
       "    </tr>\n",
       "  </tbody>\n",
       "</table>\n",
       "<p>2626 rows × 13 columns</p>\n",
       "</div>"
      ],
      "text/plain": [
       "                           anime_name  anime_id     type  episodes  score  \\\n",
       "0                        Cowboy Bebop         1       TV      26.0   8.77   \n",
       "1     Cowboy Bebop: Tengoku no Tobira         5    Movie       1.0   8.38   \n",
       "2                              Trigun         6       TV      26.0   8.22   \n",
       "3                  Witch Hunter Robin         7       TV      26.0   7.26   \n",
       "4                      Bouken Ou Beet         8       TV      52.0   6.96   \n",
       "...                               ...       ...      ...       ...    ...   \n",
       "2621               Rosario to Vampire      2993       TV      13.0   6.79   \n",
       "2622              Death Note: Rewrite      2994  Special       2.0   7.69   \n",
       "2623            Hi no Tori: Houou-hen      2997    Movie       1.0   6.86   \n",
       "2624            Hi no Tori: Uchuu-hen      2998      OVA       1.0   6.94   \n",
       "2625           Hi no Tori: Yamato-hen      2999      OVA       1.0   6.76   \n",
       "\n",
       "        rank  popularity  scored_by  likes                 aired_from  \\\n",
       "0       32.0          44   713379.0  64780  1998-04-03T00:00:00+00:00   \n",
       "1      170.0         552   178460.0   1155  2001-09-01T00:00:00+00:00   \n",
       "2      300.0         228   301980.0  12438  1998-04-01T00:00:00+00:00   \n",
       "3     2637.0        1605    37883.0    534  2002-07-02T00:00:00+00:00   \n",
       "4     3925.0        4651     5547.0     13  2004-09-30T00:00:00+00:00   \n",
       "...      ...         ...        ...    ...                        ...   \n",
       "2621  4647.0         241   346017.0   3129  2008-01-03T00:00:00+00:00   \n",
       "2622  1087.0        1020    77166.0    466  2007-08-31T00:00:00+00:00   \n",
       "2623  4346.0        8364     1159.0      5  1986-12-20T00:00:00+00:00   \n",
       "2624  4021.0        8822      948.0      4  1987-12-21T00:00:00+00:00   \n",
       "2625  4802.0        9230      851.0      3  1987-08-01T00:00:00+00:00   \n",
       "\n",
       "                       aired_to            duration  \\\n",
       "0     1999-04-24T00:00:00+00:00       24 min per ep   \n",
       "1                           NaN         1 hr 55 min   \n",
       "2     1998-09-30T00:00:00+00:00       24 min per ep   \n",
       "3     2002-12-24T00:00:00+00:00       25 min per ep   \n",
       "4     2005-09-29T00:00:00+00:00       23 min per ep   \n",
       "...                         ...                 ...   \n",
       "2621  2008-03-27T00:00:00+00:00       25 min per ep   \n",
       "2622  2008-08-22T00:00:00+00:00  1 hr 52 min per ep   \n",
       "2623                        NaN                1 hr   \n",
       "2624                        NaN              48 min   \n",
       "2625                        NaN              48 min   \n",
       "\n",
       "                                              Storyline  \n",
       "0     In the year 2071, humanity has colonized sever...  \n",
       "1     Another day, another bounty—such is the life o...  \n",
       "2     Vash the Stampede is the man with a $$60,000,0...  \n",
       "3     Witches are individuals with special powers li...  \n",
       "4     It is the dark century and the people are suff...  \n",
       "...                                                 ...  \n",
       "2621  Youkai Academy is a seemingly normal boarding ...  \n",
       "2622  1. Genshisuru Kami (Visions of a God) A two ho...  \n",
       "2623  Akanemaru, a skilled sculptor, sets out to fin...  \n",
       "2624  In deep space, four astronauts discover that t...  \n",
       "2625  At his father's command, Oguna, the youngest p...  \n",
       "\n",
       "[2626 rows x 13 columns]"
      ]
     },
     "execution_count": 2,
     "metadata": {},
     "output_type": "execute_result"
    }
   ],
   "source": [
    "df=pd.read_csv('anime project.csv')\n",
    "df"
   ]
  },
  {
   "cell_type": "markdown",
   "id": "89b445f5",
   "metadata": {},
   "source": [
    "# Data Visualization \n",
    "The first plot we decided to make was a scatterplot aimed at understanding the correlation between the attribute 'rank' and the attribute 'score'. What came out, as can be noticed below, is that there is a negative correlation of 0.97 among the two variables, which lets us deduce the fact that as the score of anime goes up its rank will get closer to the top of the anime list."
   ]
  },
  {
   "cell_type": "code",
   "execution_count": 3,
   "id": "9beffee5",
   "metadata": {},
   "outputs": [
    {
     "data": {
      "image/png": "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\n",
      "text/plain": [
       "<Figure size 432x288 with 1 Axes>"
      ]
     },
     "metadata": {
      "needs_background": "light"
     },
     "output_type": "display_data"
    },
    {
     "name": "stdout",
     "output_type": "stream",
     "text": [
      "The correlation between rank and score is:-0.9761010046993123\n"
     ]
    }
   ],
   "source": [
    "plt.scatter(df['score'],df['rank'])\n",
    "plt.xlabel('score')\n",
    "plt.ylabel('rank')\n",
    "plt.show()\n",
    "print('The correlation between rank and score is:'+ str(df['score'].corr(df['rank'])))"
   ]
  },
  {
   "cell_type": "markdown",
   "id": "9c04a694",
   "metadata": {},
   "source": [
    "Successively, we plotted the number of likes against the popularity of the anime (expressed in numbers) and against the number of people who voted them in the Myanimelist. What came out is the fact that, apart from a few high leverage points, most of the animes present a number of likes in the range between 0 and 40000. Another thing that it is possible to eyeball is the fact that animes with the least number of likes appear to be the ones with the highest popularity, which is a paradox, and are also the ones which have been more rated by people."
   ]
  },
  {
   "cell_type": "code",
   "execution_count": 4,
   "id": "162e0527",
   "metadata": {},
   "outputs": [
    {
     "data": {
      "image/png": "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\n",
      "text/plain": [
       "<Figure size 640x480 with 1 Axes>"
      ]
     },
     "metadata": {},
     "output_type": "display_data"
    },
    {
     "name": "stdout",
     "output_type": "stream",
     "text": [
      "The most popular animes are also the least liked ones\n"
     ]
    },
    {
     "data": {
      "image/png": "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\n",
      "text/plain": [
       "<Figure size 640x480 with 1 Axes>"
      ]
     },
     "metadata": {},
     "output_type": "display_data"
    },
    {
     "data": {
      "text/plain": [
       "<Figure size 640x480 with 0 Axes>"
      ]
     },
     "metadata": {},
     "output_type": "display_data"
    }
   ],
   "source": [
    "plt.style.use('classic')\n",
    "plt.scatter(df['likes'],df['popularity'])\n",
    "plt.xlabel('likes')\n",
    "plt.ylabel('popularity')\n",
    "plt.show()\n",
    "print('The most popular animes are also the least liked ones')\n",
    "plt.scatter(df['likes'],df['scored_by'])\n",
    "plt.xlabel('likes')\n",
    "plt.ylabel('scored_by')\n",
    "plt.figure(figsize=(8, 6))\n",
    "plt.show()"
   ]
  },
  {
   "cell_type": "markdown",
   "id": "5d1f8025",
   "metadata": {},
   "source": [
    "Later, we plotted the proportions of each typology of anime's format in a pie chart and clearly, the most prevalent types of animes are OVAs and TV which represents TV series."
   ]
  },
  {
   "cell_type": "code",
   "execution_count": 5,
   "id": "65325da4",
   "metadata": {},
   "outputs": [
    {
     "data": {
      "image/png": "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\n",
      "text/plain": [
       "<Figure size 640x480 with 1 Axes>"
      ]
     },
     "metadata": {},
     "output_type": "display_data"
    },
    {
     "data": {
      "text/plain": [
       "<Figure size 80x80 with 0 Axes>"
      ]
     },
     "metadata": {},
     "output_type": "display_data"
    }
   ],
   "source": [
    "percentagetype=df.groupby(by=[\"type\"]).size()\n",
    "plt.pie(percentagetype)\n",
    "red_patch = mpatches.Patch(color='c', label='OVA')\n",
    "green_patch=mpatches.Patch(color='r',label='ONA')\n",
    "blue_patch=mpatches.Patch(color='b',label='Movie')\n",
    "purple_patch=mpatches.Patch(color='m',label='Special')\n",
    "brown_patch=mpatches.Patch(color='yellow',label='TV')\n",
    "yellow_patch=mpatches.Patch(color='green',label='Music')\n",
    "plt.legend(handles=[red_patch,green_patch,blue_patch,purple_patch,brown_patch,yellow_patch],bbox_to_anchor=(1,1.025), loc=\"upper left\")\n",
    "plt.figure(figsize=(1,1))\n",
    "plt.show()\n"
   ]
  },
  {
   "cell_type": "markdown",
   "id": "9b9a63f5",
   "metadata": {},
   "source": [
    "Finally, we plotted the average number of episodes as a grouped mean for each typology of anime format. Apart from TV series, which obviously have the highest number of episodes, the second with the highest number of splits in storytelling are ONAs. "
   ]
  },
  {
   "cell_type": "code",
   "execution_count": 6,
   "id": "70184ea6",
   "metadata": {},
   "outputs": [
    {
     "data": {
      "image/png": "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\n",
      "text/plain": [
       "<Figure size 640x480 with 1 Axes>"
      ]
     },
     "metadata": {},
     "output_type": "display_data"
    },
    {
     "data": {
      "text/plain": [
       "<Figure size 80x80 with 0 Axes>"
      ]
     },
     "metadata": {},
     "output_type": "display_data"
    }
   ],
   "source": [
    "avg_n_of_episodes_per_type=df.groupby('type', as_index=False)['episodes'].mean()\n",
    "avg_n_of_episodes_per_type.values.reshape(1,-1)\n",
    "plt.style.use('dark_background')\n",
    "plt.bar(avg_n_of_episodes_per_type['type'],avg_n_of_episodes_per_type['episodes'],color='orange')\n",
    "plt.xlabel(' type')\n",
    "plt.ylabel('average number of episodes ')\n",
    "plt.figure(figsize=(1, 1))\n",
    "plt.show()"
   ]
  },
  {
   "cell_type": "markdown",
   "id": "4f5ec807",
   "metadata": {},
   "source": [
    "# Regression models \n",
    "\n",
    "In order to provide something meaningful and useful, we decided to build different ML models to predict the number of likes given three predictors ('scored_by', 'rank' and 'score'). Before doing this we had to clean up and preprocess the data a little. Firstly, we checked for missing values for all the predictors and then we decided to delete the instances with null values for what concerns the predictors we were interested in. "
   ]
  },
  {
   "cell_type": "code",
   "execution_count": 7,
   "id": "550e66a7",
   "metadata": {},
   "outputs": [
    {
     "name": "stdout",
     "output_type": "stream",
     "text": [
      "aired_to      0.320259\n",
      "rank          0.087205\n",
      "Storyline     0.007616\n",
      "score         0.004570\n",
      "scored_by     0.004570\n",
      "episodes      0.002285\n",
      "anime_name    0.000000\n",
      "anime_id      0.000000\n",
      "type          0.000000\n",
      "popularity    0.000000\n",
      "dtype: float64\n"
     ]
    }
   ],
   "source": [
    "#Checking for null values \n",
    "MVpercentages = (df.isnull().sum()/df.shape[0]).sort_values(ascending=False)\n",
    "print(MVpercentages.head(10))"
   ]
  },
  {
   "cell_type": "code",
   "execution_count": 8,
   "id": "6e43d6d9",
   "metadata": {},
   "outputs": [
    {
     "data": {
      "text/html": [
       "<div>\n",
       "<style scoped>\n",
       "    .dataframe tbody tr th:only-of-type {\n",
       "        vertical-align: middle;\n",
       "    }\n",
       "\n",
       "    .dataframe tbody tr th {\n",
       "        vertical-align: top;\n",
       "    }\n",
       "\n",
       "    .dataframe thead th {\n",
       "        text-align: right;\n",
       "    }\n",
       "</style>\n",
       "<table border=\"1\" class=\"dataframe\">\n",
       "  <thead>\n",
       "    <tr style=\"text-align: right;\">\n",
       "      <th></th>\n",
       "      <th>anime_name</th>\n",
       "      <th>anime_id</th>\n",
       "      <th>type</th>\n",
       "      <th>episodes</th>\n",
       "      <th>score</th>\n",
       "      <th>rank</th>\n",
       "      <th>popularity</th>\n",
       "      <th>scored_by</th>\n",
       "      <th>likes</th>\n",
       "      <th>aired_from</th>\n",
       "      <th>aired_to</th>\n",
       "      <th>duration</th>\n",
       "      <th>Storyline</th>\n",
       "    </tr>\n",
       "  </thead>\n",
       "  <tbody>\n",
       "    <tr>\n",
       "      <th>163</th>\n",
       "      <td>Gosenzo San'e</td>\n",
       "      <td>188</td>\n",
       "      <td>OVA</td>\n",
       "      <td>4.0</td>\n",
       "      <td>6.09</td>\n",
       "      <td>NaN</td>\n",
       "      <td>8788</td>\n",
       "      <td>818.0</td>\n",
       "      <td>5</td>\n",
       "      <td>1998-09-25T00:00:00+00:00</td>\n",
       "      <td>1999-03-25T00:00:00+00:00</td>\n",
       "      <td>30 min per ep</td>\n",
       "      <td>Masquerade is the story surrounding the Hiraga...</td>\n",
       "    </tr>\n",
       "    <tr>\n",
       "      <th>178</th>\n",
       "      <td>Words Worth</td>\n",
       "      <td>203</td>\n",
       "      <td>OVA</td>\n",
       "      <td>5.0</td>\n",
       "      <td>6.75</td>\n",
       "      <td>NaN</td>\n",
       "      <td>5841</td>\n",
       "      <td>3266.0</td>\n",
       "      <td>31</td>\n",
       "      <td>1999-08-25T00:00:00+00:00</td>\n",
       "      <td>2000-11-25T00:00:00+00:00</td>\n",
       "      <td>28 min per ep</td>\n",
       "      <td>The legend has survived for generation. The Wo...</td>\n",
       "    </tr>\n",
       "    <tr>\n",
       "      <th>185</th>\n",
       "      <td>Pure Mail</td>\n",
       "      <td>211</td>\n",
       "      <td>OVA</td>\n",
       "      <td>2.0</td>\n",
       "      <td>6.24</td>\n",
       "      <td>NaN</td>\n",
       "      <td>8113</td>\n",
       "      <td>1284.0</td>\n",
       "      <td>13</td>\n",
       "      <td>2001-09-25T00:00:00+00:00</td>\n",
       "      <td>2001-12-21T00:00:00+00:00</td>\n",
       "      <td>29 min per ep</td>\n",
       "      <td>Episode 1: \"There is no need for relationships...</td>\n",
       "    </tr>\n",
       "    <tr>\n",
       "      <th>187</th>\n",
       "      <td>Pia Carrot e Youkoso!!</td>\n",
       "      <td>213</td>\n",
       "      <td>OVA</td>\n",
       "      <td>3.0</td>\n",
       "      <td>6.00</td>\n",
       "      <td>NaN</td>\n",
       "      <td>8180</td>\n",
       "      <td>1132.0</td>\n",
       "      <td>5</td>\n",
       "      <td>1997-10-24T00:00:00+00:00</td>\n",
       "      <td>1998-04-24T00:00:00+00:00</td>\n",
       "      <td>27 min per ep</td>\n",
       "      <td>Yusuke Kinoshita is forced by his father to wo...</td>\n",
       "    </tr>\n",
       "    <tr>\n",
       "      <th>188</th>\n",
       "      <td>Pia Carrot e Youkoso!! 2</td>\n",
       "      <td>214</td>\n",
       "      <td>OVA</td>\n",
       "      <td>3.0</td>\n",
       "      <td>6.12</td>\n",
       "      <td>NaN</td>\n",
       "      <td>9151</td>\n",
       "      <td>804.0</td>\n",
       "      <td>5</td>\n",
       "      <td>1998-10-23T00:00:00+00:00</td>\n",
       "      <td>1999-04-23T00:00:00+00:00</td>\n",
       "      <td>28 min per ep</td>\n",
       "      <td>Yusuke (from the first Pia Carrot series) retu...</td>\n",
       "    </tr>\n",
       "    <tr>\n",
       "      <th>...</th>\n",
       "      <td>...</td>\n",
       "      <td>...</td>\n",
       "      <td>...</td>\n",
       "      <td>...</td>\n",
       "      <td>...</td>\n",
       "      <td>...</td>\n",
       "      <td>...</td>\n",
       "      <td>...</td>\n",
       "      <td>...</td>\n",
       "      <td>...</td>\n",
       "      <td>...</td>\n",
       "      <td>...</td>\n",
       "      <td>...</td>\n",
       "    </tr>\n",
       "    <tr>\n",
       "      <th>2612</th>\n",
       "      <td>Yuuwaku</td>\n",
       "      <td>2982</td>\n",
       "      <td>OVA</td>\n",
       "      <td>2.0</td>\n",
       "      <td>6.51</td>\n",
       "      <td>NaN</td>\n",
       "      <td>6613</td>\n",
       "      <td>2074.0</td>\n",
       "      <td>23</td>\n",
       "      <td>2003-07-25T00:00:00+00:00</td>\n",
       "      <td>2003-10-31T00:00:00+00:00</td>\n",
       "      <td>30 min per ep</td>\n",
       "      <td>Unable to resist his animal urges, a professor...</td>\n",
       "    </tr>\n",
       "    <tr>\n",
       "      <th>2617</th>\n",
       "      <td>Mahou Shoujo Ai</td>\n",
       "      <td>2988</td>\n",
       "      <td>OVA</td>\n",
       "      <td>5.0</td>\n",
       "      <td>6.52</td>\n",
       "      <td>NaN</td>\n",
       "      <td>5852</td>\n",
       "      <td>2595.0</td>\n",
       "      <td>31</td>\n",
       "      <td>2003-08-25T00:00:00+00:00</td>\n",
       "      <td>2005-02-25T00:00:00+00:00</td>\n",
       "      <td>27 min per ep</td>\n",
       "      <td>In a certain town, there were consecutive phan...</td>\n",
       "    </tr>\n",
       "    <tr>\n",
       "      <th>2618</th>\n",
       "      <td>Classmate no Okaasan</td>\n",
       "      <td>2989</td>\n",
       "      <td>OVA</td>\n",
       "      <td>2.0</td>\n",
       "      <td>6.01</td>\n",
       "      <td>NaN</td>\n",
       "      <td>6836</td>\n",
       "      <td>1826.0</td>\n",
       "      <td>11</td>\n",
       "      <td>2007-04-13T00:00:00+00:00</td>\n",
       "      <td>2007-07-13T00:00:00+00:00</td>\n",
       "      <td>28 min per ep</td>\n",
       "      <td>Jun is in his second year of high school. He l...</td>\n",
       "    </tr>\n",
       "    <tr>\n",
       "      <th>2619</th>\n",
       "      <td>Mini Skirt Gakuen</td>\n",
       "      <td>2990</td>\n",
       "      <td>OVA</td>\n",
       "      <td>1.0</td>\n",
       "      <td>4.43</td>\n",
       "      <td>NaN</td>\n",
       "      <td>10279</td>\n",
       "      <td>509.0</td>\n",
       "      <td>3</td>\n",
       "      <td>2001-12-21T00:00:00+00:00</td>\n",
       "      <td>NaN</td>\n",
       "      <td>19 min</td>\n",
       "      <td>Under the uniforms of this girls volleyball te...</td>\n",
       "    </tr>\n",
       "    <tr>\n",
       "      <th>2620</th>\n",
       "      <td>Harumi-chan no Oita</td>\n",
       "      <td>2991</td>\n",
       "      <td>OVA</td>\n",
       "      <td>1.0</td>\n",
       "      <td>5.19</td>\n",
       "      <td>NaN</td>\n",
       "      <td>8489</td>\n",
       "      <td>1176.0</td>\n",
       "      <td>6</td>\n",
       "      <td>2001-03-16T00:00:00+00:00</td>\n",
       "      <td>NaN</td>\n",
       "      <td>23 min</td>\n",
       "      <td>Wafaru is a guy next door. One day he saw a li...</td>\n",
       "    </tr>\n",
       "  </tbody>\n",
       "</table>\n",
       "<p>229 rows × 13 columns</p>\n",
       "</div>"
      ],
      "text/plain": [
       "                    anime_name  anime_id type  episodes  score  rank  \\\n",
       "163              Gosenzo San'e       188  OVA       4.0   6.09   NaN   \n",
       "178                Words Worth       203  OVA       5.0   6.75   NaN   \n",
       "185                  Pure Mail       211  OVA       2.0   6.24   NaN   \n",
       "187     Pia Carrot e Youkoso!!       213  OVA       3.0   6.00   NaN   \n",
       "188   Pia Carrot e Youkoso!! 2       214  OVA       3.0   6.12   NaN   \n",
       "...                        ...       ...  ...       ...    ...   ...   \n",
       "2612                   Yuuwaku      2982  OVA       2.0   6.51   NaN   \n",
       "2617           Mahou Shoujo Ai      2988  OVA       5.0   6.52   NaN   \n",
       "2618      Classmate no Okaasan      2989  OVA       2.0   6.01   NaN   \n",
       "2619         Mini Skirt Gakuen      2990  OVA       1.0   4.43   NaN   \n",
       "2620       Harumi-chan no Oita      2991  OVA       1.0   5.19   NaN   \n",
       "\n",
       "      popularity  scored_by  likes                 aired_from  \\\n",
       "163         8788      818.0      5  1998-09-25T00:00:00+00:00   \n",
       "178         5841     3266.0     31  1999-08-25T00:00:00+00:00   \n",
       "185         8113     1284.0     13  2001-09-25T00:00:00+00:00   \n",
       "187         8180     1132.0      5  1997-10-24T00:00:00+00:00   \n",
       "188         9151      804.0      5  1998-10-23T00:00:00+00:00   \n",
       "...          ...        ...    ...                        ...   \n",
       "2612        6613     2074.0     23  2003-07-25T00:00:00+00:00   \n",
       "2617        5852     2595.0     31  2003-08-25T00:00:00+00:00   \n",
       "2618        6836     1826.0     11  2007-04-13T00:00:00+00:00   \n",
       "2619       10279      509.0      3  2001-12-21T00:00:00+00:00   \n",
       "2620        8489     1176.0      6  2001-03-16T00:00:00+00:00   \n",
       "\n",
       "                       aired_to       duration  \\\n",
       "163   1999-03-25T00:00:00+00:00  30 min per ep   \n",
       "178   2000-11-25T00:00:00+00:00  28 min per ep   \n",
       "185   2001-12-21T00:00:00+00:00  29 min per ep   \n",
       "187   1998-04-24T00:00:00+00:00  27 min per ep   \n",
       "188   1999-04-23T00:00:00+00:00  28 min per ep   \n",
       "...                         ...            ...   \n",
       "2612  2003-10-31T00:00:00+00:00  30 min per ep   \n",
       "2617  2005-02-25T00:00:00+00:00  27 min per ep   \n",
       "2618  2007-07-13T00:00:00+00:00  28 min per ep   \n",
       "2619                        NaN         19 min   \n",
       "2620                        NaN         23 min   \n",
       "\n",
       "                                              Storyline  \n",
       "163   Masquerade is the story surrounding the Hiraga...  \n",
       "178   The legend has survived for generation. The Wo...  \n",
       "185   Episode 1: \"There is no need for relationships...  \n",
       "187   Yusuke Kinoshita is forced by his father to wo...  \n",
       "188   Yusuke (from the first Pia Carrot series) retu...  \n",
       "...                                                 ...  \n",
       "2612  Unable to resist his animal urges, a professor...  \n",
       "2617  In a certain town, there were consecutive phan...  \n",
       "2618  Jun is in his second year of high school. He l...  \n",
       "2619  Under the uniforms of this girls volleyball te...  \n",
       "2620  Wafaru is a guy next door. One day he saw a li...  \n",
       "\n",
       "[229 rows x 13 columns]"
      ]
     },
     "execution_count": 8,
     "metadata": {},
     "output_type": "execute_result"
    }
   ],
   "source": [
    "#Looking for instances with null values in the rank column\n",
    "NaN_rows = df[df['rank'].isnull()]\n",
    "NaN_rows"
   ]
  },
  {
   "cell_type": "code",
   "execution_count": 9,
   "id": "ac14fb15",
   "metadata": {},
   "outputs": [
    {
     "data": {
      "text/plain": [
       "(2385, 13)"
      ]
     },
     "execution_count": 9,
     "metadata": {},
     "output_type": "execute_result"
    }
   ],
   "source": [
    "#deleting instances with null values \n",
    "df.dropna(subset=['rank','score','scored_by'], inplace=True)\n",
    "df.replace([np.inf, -np.inf], np.nan, inplace=True)\n",
    "df.shape"
   ]
  },
  {
   "cell_type": "markdown",
   "id": "ebbcbd5e",
   "metadata": {},
   "source": [
    "Later on, we had to create our predictor matrix and response vector and we also had to reshape Y with numpy in order to transform it into an array."
   ]
  },
  {
   "cell_type": "code",
   "execution_count": 10,
   "id": "54648a9c",
   "metadata": {},
   "outputs": [],
   "source": [
    "#Creating predictors and target variable \n",
    "X=df [['score','rank','popularity','scored_by']]\n",
    "Y=df['likes']\n",
    "Y=Y.values.reshape(-1,1)\n"
   ]
  },
  {
   "cell_type": "markdown",
   "id": "788d2c04",
   "metadata": {},
   "source": [
    "We then plotted the distribution of Y for testing the normality assumptions necessary for the linear model and it appeared to have a non-normal distribution so we scaled it.  "
   ]
  },
  {
   "cell_type": "code",
   "execution_count": 11,
   "id": "17db52c7",
   "metadata": {},
   "outputs": [
    {
     "data": {
      "image/png": "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\n",
      "text/plain": [
       "<Figure size 640x480 with 1 Axes>"
      ]
     },
     "metadata": {},
     "output_type": "display_data"
    }
   ],
   "source": [
    "#Plotting distribution of target variable 'likes'\n",
    "plt.style.use('classic')\n",
    "plt.hist(df['likes'], color = 'blue', edgecolor = 'white',bins = int(20))\n",
    "plt.xlabel('likes ')\n",
    "plt.show()"
   ]
  },
  {
   "cell_type": "code",
   "execution_count": 12,
   "id": "649b1def",
   "metadata": {},
   "outputs": [
    {
     "data": {
      "image/png": "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\n",
      "text/plain": [
       "<Figure size 640x480 with 1 Axes>"
      ]
     },
     "metadata": {},
     "output_type": "display_data"
    }
   ],
   "source": [
    "#Normalizing the distribution of the target variable likes (on the y axis there is the frequency )\n",
    "scaler=StandardScaler()\n",
    "Y=scaler.fit_transform(Y)\n",
    "X=scaler.fit_transform(X)\n",
    "plt.hist(Y, color = 'blue', edgecolor = 'black',\n",
    "         bins = int(20))\n",
    "plt.xlabel('likes normalized')\n",
    "plt.show()"
   ]
  },
  {
   "cell_type": "markdown",
   "id": "2f83b9c8",
   "metadata": {},
   "source": [
    "In the last part of our data manipulation and preprocessing we performed a train-test split by using 75% of our dataset for training the models and the remaining part to test them."
   ]
  },
  {
   "cell_type": "code",
   "execution_count": 13,
   "id": "469fbb43",
   "metadata": {},
   "outputs": [],
   "source": [
    "#Performing a train-test split\n",
    "X_train, X_test, Y_train, Y_test = train_test_split(X, Y, test_size=0.25, random_state=42)"
   ]
  },
  {
   "cell_type": "markdown",
   "id": "52053280",
   "metadata": {},
   "source": [
    "We basically built three regression models (a linear regression model, a Random Forest and a Boosting model) and, for each one of them, we computed the Rsquared on the test set according to the previous train-test split and, in addition, we copmuted the Mean R squared among the folds of a 5-fold cross validation. Before choosing the number of folds we made many attempts but, even increasing the number of folds to 10/20, the accuracy didn't really increase that much so we decided to stick with 5 folds."
   ]
  },
  {
   "cell_type": "markdown",
   "id": "a9e01a25",
   "metadata": {},
   "source": [
    "## Linear Model"
   ]
  },
  {
   "cell_type": "code",
   "execution_count": 14,
   "id": "e36d1b2a",
   "metadata": {},
   "outputs": [
    {
     "name": "stdout",
     "output_type": "stream",
     "text": [
      "Rsquared of the Linear Regression model is: 0.7360141405427469\n"
     ]
    }
   ],
   "source": [
    "#1st model with a simple multivariate linear regression \n",
    "model1=LinearRegression()\n",
    "model1.fit(X_train,Y_train)\n",
    "Y_pred = model1.predict(X_test)\n",
    "print('Rsquared of the Linear Regression model is: '+ str(r2_score(Y_pred,Y_test)))"
   ]
  },
  {
   "cell_type": "code",
   "execution_count": 15,
   "id": "036e6549",
   "metadata": {},
   "outputs": [
    {
     "name": "stdout",
     "output_type": "stream",
     "text": [
      "[0.6205846  0.6228268  0.91573444 0.81672103 0.71668522]\n",
      "Mean 5-Fold R Squared of the Random Forest model is: 0.738510417910948\n"
     ]
    }
   ],
   "source": [
    "#Cross validation on linear regression model \n",
    "model1cv=LinearRegression()\n",
    "model1cv.fit(X_train,Y_train)\n",
    "cv_r2_scores_rf = cross_val_score(model1cv, X, Y, cv=5,scoring='r2')\n",
    "print(cv_r2_scores_rf)\n",
    "print(\"Mean 5-Fold R Squared of the Random Forest model is: {}\".format(np.mean(cv_r2_scores_rf)))"
   ]
  },
  {
   "cell_type": "markdown",
   "id": "873e05e2",
   "metadata": {},
   "source": [
    "## Random Forest "
   ]
  },
  {
   "cell_type": "code",
   "execution_count": 16,
   "id": "6e645e3b",
   "metadata": {},
   "outputs": [
    {
     "name": "stdout",
     "output_type": "stream",
     "text": [
      "R2 squared of the Random forest model is:0.8154562187061573\n"
     ]
    }
   ],
   "source": [
    "#2nd model with Random forest regressor.We're using cross validation since we only have a few thousands of observations\n",
    "model2 = RandomForestRegressor(n_estimators=20, random_state=0)\n",
    "model2.fit(X_train, np.ravel(Y_train, order='c'))\n",
    "Y_pred2=model2.predict(X_test)\n",
    "print('R2 squared of the Random forest model is:' +str(r2_score(Y_pred2,Y_test)))"
   ]
  },
  {
   "cell_type": "code",
   "execution_count": 17,
   "id": "835be8f2",
   "metadata": {
    "scrolled": true
   },
   "outputs": [
    {
     "name": "stderr",
     "output_type": "stream",
     "text": [
      "/opt/anaconda3/lib/python3.8/site-packages/sklearn/model_selection/_validation.py:593: DataConversionWarning: A column-vector y was passed when a 1d array was expected. Please change the shape of y to (n_samples,), for example using ravel().\n",
      "  estimator.fit(X_train, y_train, **fit_params)\n",
      "/opt/anaconda3/lib/python3.8/site-packages/sklearn/model_selection/_validation.py:593: DataConversionWarning: A column-vector y was passed when a 1d array was expected. Please change the shape of y to (n_samples,), for example using ravel().\n",
      "  estimator.fit(X_train, y_train, **fit_params)\n",
      "/opt/anaconda3/lib/python3.8/site-packages/sklearn/model_selection/_validation.py:593: DataConversionWarning: A column-vector y was passed when a 1d array was expected. Please change the shape of y to (n_samples,), for example using ravel().\n",
      "  estimator.fit(X_train, y_train, **fit_params)\n",
      "/opt/anaconda3/lib/python3.8/site-packages/sklearn/model_selection/_validation.py:593: DataConversionWarning: A column-vector y was passed when a 1d array was expected. Please change the shape of y to (n_samples,), for example using ravel().\n",
      "  estimator.fit(X_train, y_train, **fit_params)\n",
      "/opt/anaconda3/lib/python3.8/site-packages/sklearn/model_selection/_validation.py:593: DataConversionWarning: A column-vector y was passed when a 1d array was expected. Please change the shape of y to (n_samples,), for example using ravel().\n",
      "  estimator.fit(X_train, y_train, **fit_params)\n"
     ]
    },
    {
     "name": "stdout",
     "output_type": "stream",
     "text": [
      "[0.6789072  0.79779563 0.85732579 0.95426985 0.87615102]\n",
      "Mean 5-Fold R Squared of the Random Forest model is: 0.8328898966127319\n"
     ]
    }
   ],
   "source": [
    "#2 model with Random forest but with cross validation score and not simply train-test splot\n",
    "model2cv=RandomForestRegressor(n_estimators=20,random_state=0)\n",
    "cv_r2_scores_rf = cross_val_score(model2cv, X, Y, cv=5,scoring='r2')\n",
    "print(cv_r2_scores_rf)\n",
    "print(\"Mean 5-Fold R Squared of the Random Forest model is: {}\".format(np.mean(cv_r2_scores_rf)))"
   ]
  },
  {
   "cell_type": "markdown",
   "id": "6e0c7013",
   "metadata": {},
   "source": [
    "## XGBoost (Boosting)"
   ]
  },
  {
   "cell_type": "code",
   "execution_count": 18,
   "id": "c2d6b423",
   "metadata": {},
   "outputs": [
    {
     "name": "stdout",
     "output_type": "stream",
     "text": [
      "The Rsquared of the XGBoost model is: 0.8119881157925052\n"
     ]
    }
   ],
   "source": [
    "#3rd model with Extreme Gradient boosting \n",
    "model3=XGBRegressor()\n",
    "model3.fit(X_train,Y_train)\n",
    "Y_pred3= model3.predict(X_test)\n",
    "print('The Rsquared of the XGBoost model is: '+ str(r2_score(Y_pred3,Y_test)))"
   ]
  },
  {
   "cell_type": "code",
   "execution_count": 19,
   "id": "5f0108c2",
   "metadata": {},
   "outputs": [
    {
     "name": "stdout",
     "output_type": "stream",
     "text": [
      "[0.63207088 0.81876946 0.96631497 0.8253021  0.80868067]\n",
      "Mean 5-Fold R Squared of the XGBoost model is: 0.8102276182949104\n"
     ]
    }
   ],
   "source": [
    "#3rd modek with Extreme Gradient boosting but with cross validation score and not mere train-test split \n",
    "model3cv=XGBRegressor()\n",
    "cv_r2_scores_rf = cross_val_score(model3cv, X, Y, cv=5,scoring='r2')\n",
    "print(cv_r2_scores_rf)\n",
    "print(\"Mean 5-Fold R Squared of the XGBoost model is: {}\".format(np.mean(cv_r2_scores_rf)))"
   ]
  },
  {
   "cell_type": "markdown",
   "id": "9726300f",
   "metadata": {},
   "source": [
    "What appears from the results is that the linear model is outperformed if compared with Random Forest and XGboost, but this is quite normal since the main characteristic of a linear model is not the accuracy of the model but its interpretability. However, the accuracy of the three models seems to be good and could be improved by better tuning the hyperparameters of the two ensemble learning models, for instance through a grid search."
 ],
 "metadata": {
  "kernelspec": {
   "display_name": "Python 3",
   "language": "python",
   "name": "python3"
  },
  "language_info": {
   "codemirror_mode": {
    "name": "ipython",
    "version": 3
   },
   "file_extension": ".py",
   "mimetype": "text/x-python",
   "name": "python",
   "nbconvert_exporter": "python",
   "pygments_lexer": "ipython3",
   "version": "3.8.8"
  }
 },
 "nbformat": 4,
 "nbformat_minor": 5
}
