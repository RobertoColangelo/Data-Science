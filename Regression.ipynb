{
 "cells": [
  {
   "cell_type": "code",
   "execution_count": 1,
   "id": "f6066f9e",
   "metadata": {},
   "outputs": [],
   "source": [
    "import pandas as pd \n",
    "import matplotlib.pyplot as plt\n",
    "import numpy as np \n",
    "from sklearn.model_selection import cross_val_score\n",
    "from sklearn.linear_model import LinearRegression\n",
    "from sklearn.metrics import mean_squared_error, make_scorer\n",
    "from numpy import absolute\n",
    "from pandas import read_csv\n",
    "from sklearn.model_selection import RepeatedKFold\n",
    "from xgboost import XGBRegressor\n",
    "from sklearn.preprocessing import StandardScaler\n",
    "from sklearn.ensemble import RandomForestRegressor"
   ]
  },
  {
   "cell_type": "code",
   "execution_count": 2,
   "id": "d39a09bb",
   "metadata": {},
   "outputs": [
    {
     "data": {
      "text/html": [
       "<div>\n",
       "<style scoped>\n",
       "    .dataframe tbody tr th:only-of-type {\n",
       "        vertical-align: middle;\n",
       "    }\n",
       "\n",
       "    .dataframe tbody tr th {\n",
       "        vertical-align: top;\n",
       "    }\n",
       "\n",
       "    .dataframe thead th {\n",
       "        text-align: right;\n",
       "    }\n",
       "</style>\n",
       "<table border=\"1\" class=\"dataframe\">\n",
       "  <thead>\n",
       "    <tr style=\"text-align: right;\">\n",
       "      <th></th>\n",
       "      <th>anime_name</th>\n",
       "      <th>anime_id</th>\n",
       "      <th>type</th>\n",
       "      <th>episodes</th>\n",
       "      <th>score</th>\n",
       "      <th>rank</th>\n",
       "      <th>popularity</th>\n",
       "      <th>scored_by</th>\n",
       "      <th>likes</th>\n",
       "      <th>aired_from</th>\n",
       "      <th>aired_to</th>\n",
       "      <th>duration</th>\n",
       "      <th>Storyline</th>\n",
       "    </tr>\n",
       "  </thead>\n",
       "  <tbody>\n",
       "    <tr>\n",
       "      <th>0</th>\n",
       "      <td>Cowboy Bebop</td>\n",
       "      <td>1</td>\n",
       "      <td>TV</td>\n",
       "      <td>26.0</td>\n",
       "      <td>8.77</td>\n",
       "      <td>32.0</td>\n",
       "      <td>44</td>\n",
       "      <td>713379.0</td>\n",
       "      <td>64780</td>\n",
       "      <td>1998-04-03T00:00:00+00:00</td>\n",
       "      <td>1999-04-24T00:00:00+00:00</td>\n",
       "      <td>24 min per ep</td>\n",
       "      <td>In the year 2071, humanity has colonized sever...</td>\n",
       "    </tr>\n",
       "    <tr>\n",
       "      <th>1</th>\n",
       "      <td>Cowboy Bebop: Tengoku no Tobira</td>\n",
       "      <td>5</td>\n",
       "      <td>Movie</td>\n",
       "      <td>1.0</td>\n",
       "      <td>8.38</td>\n",
       "      <td>170.0</td>\n",
       "      <td>552</td>\n",
       "      <td>178460.0</td>\n",
       "      <td>1155</td>\n",
       "      <td>2001-09-01T00:00:00+00:00</td>\n",
       "      <td>NaN</td>\n",
       "      <td>1 hr 55 min</td>\n",
       "      <td>Another day, another bounty—such is the life o...</td>\n",
       "    </tr>\n",
       "    <tr>\n",
       "      <th>2</th>\n",
       "      <td>Trigun</td>\n",
       "      <td>6</td>\n",
       "      <td>TV</td>\n",
       "      <td>26.0</td>\n",
       "      <td>8.22</td>\n",
       "      <td>300.0</td>\n",
       "      <td>228</td>\n",
       "      <td>301980.0</td>\n",
       "      <td>12438</td>\n",
       "      <td>1998-04-01T00:00:00+00:00</td>\n",
       "      <td>1998-09-30T00:00:00+00:00</td>\n",
       "      <td>24 min per ep</td>\n",
       "      <td>Vash the Stampede is the man with a $$60,000,0...</td>\n",
       "    </tr>\n",
       "    <tr>\n",
       "      <th>3</th>\n",
       "      <td>Witch Hunter Robin</td>\n",
       "      <td>7</td>\n",
       "      <td>TV</td>\n",
       "      <td>26.0</td>\n",
       "      <td>7.26</td>\n",
       "      <td>2637.0</td>\n",
       "      <td>1605</td>\n",
       "      <td>37883.0</td>\n",
       "      <td>534</td>\n",
       "      <td>2002-07-02T00:00:00+00:00</td>\n",
       "      <td>2002-12-24T00:00:00+00:00</td>\n",
       "      <td>25 min per ep</td>\n",
       "      <td>Witches are individuals with special powers li...</td>\n",
       "    </tr>\n",
       "    <tr>\n",
       "      <th>4</th>\n",
       "      <td>Bouken Ou Beet</td>\n",
       "      <td>8</td>\n",
       "      <td>TV</td>\n",
       "      <td>52.0</td>\n",
       "      <td>6.96</td>\n",
       "      <td>3925.0</td>\n",
       "      <td>4651</td>\n",
       "      <td>5547.0</td>\n",
       "      <td>13</td>\n",
       "      <td>2004-09-30T00:00:00+00:00</td>\n",
       "      <td>2005-09-29T00:00:00+00:00</td>\n",
       "      <td>23 min per ep</td>\n",
       "      <td>It is the dark century and the people are suff...</td>\n",
       "    </tr>\n",
       "    <tr>\n",
       "      <th>...</th>\n",
       "      <td>...</td>\n",
       "      <td>...</td>\n",
       "      <td>...</td>\n",
       "      <td>...</td>\n",
       "      <td>...</td>\n",
       "      <td>...</td>\n",
       "      <td>...</td>\n",
       "      <td>...</td>\n",
       "      <td>...</td>\n",
       "      <td>...</td>\n",
       "      <td>...</td>\n",
       "      <td>...</td>\n",
       "      <td>...</td>\n",
       "    </tr>\n",
       "    <tr>\n",
       "      <th>2621</th>\n",
       "      <td>Rosario to Vampire</td>\n",
       "      <td>2993</td>\n",
       "      <td>TV</td>\n",
       "      <td>13.0</td>\n",
       "      <td>6.79</td>\n",
       "      <td>4647.0</td>\n",
       "      <td>241</td>\n",
       "      <td>346017.0</td>\n",
       "      <td>3129</td>\n",
       "      <td>2008-01-03T00:00:00+00:00</td>\n",
       "      <td>2008-03-27T00:00:00+00:00</td>\n",
       "      <td>25 min per ep</td>\n",
       "      <td>Youkai Academy is a seemingly normal boarding ...</td>\n",
       "    </tr>\n",
       "    <tr>\n",
       "      <th>2622</th>\n",
       "      <td>Death Note: Rewrite</td>\n",
       "      <td>2994</td>\n",
       "      <td>Special</td>\n",
       "      <td>2.0</td>\n",
       "      <td>7.69</td>\n",
       "      <td>1087.0</td>\n",
       "      <td>1020</td>\n",
       "      <td>77166.0</td>\n",
       "      <td>466</td>\n",
       "      <td>2007-08-31T00:00:00+00:00</td>\n",
       "      <td>2008-08-22T00:00:00+00:00</td>\n",
       "      <td>1 hr 52 min per ep</td>\n",
       "      <td>1. Genshisuru Kami (Visions of a God) A two ho...</td>\n",
       "    </tr>\n",
       "    <tr>\n",
       "      <th>2623</th>\n",
       "      <td>Hi no Tori: Houou-hen</td>\n",
       "      <td>2997</td>\n",
       "      <td>Movie</td>\n",
       "      <td>1.0</td>\n",
       "      <td>6.86</td>\n",
       "      <td>4346.0</td>\n",
       "      <td>8364</td>\n",
       "      <td>1159.0</td>\n",
       "      <td>5</td>\n",
       "      <td>1986-12-20T00:00:00+00:00</td>\n",
       "      <td>NaN</td>\n",
       "      <td>1 hr</td>\n",
       "      <td>Akanemaru, a skilled sculptor, sets out to fin...</td>\n",
       "    </tr>\n",
       "    <tr>\n",
       "      <th>2624</th>\n",
       "      <td>Hi no Tori: Uchuu-hen</td>\n",
       "      <td>2998</td>\n",
       "      <td>OVA</td>\n",
       "      <td>1.0</td>\n",
       "      <td>6.94</td>\n",
       "      <td>4021.0</td>\n",
       "      <td>8822</td>\n",
       "      <td>948.0</td>\n",
       "      <td>4</td>\n",
       "      <td>1987-12-21T00:00:00+00:00</td>\n",
       "      <td>NaN</td>\n",
       "      <td>48 min</td>\n",
       "      <td>In deep space, four astronauts discover that t...</td>\n",
       "    </tr>\n",
       "    <tr>\n",
       "      <th>2625</th>\n",
       "      <td>Hi no Tori: Yamato-hen</td>\n",
       "      <td>2999</td>\n",
       "      <td>OVA</td>\n",
       "      <td>1.0</td>\n",
       "      <td>6.76</td>\n",
       "      <td>4802.0</td>\n",
       "      <td>9230</td>\n",
       "      <td>851.0</td>\n",
       "      <td>3</td>\n",
       "      <td>1987-08-01T00:00:00+00:00</td>\n",
       "      <td>NaN</td>\n",
       "      <td>48 min</td>\n",
       "      <td>At his father's command, Oguna, the youngest p...</td>\n",
       "    </tr>\n",
       "  </tbody>\n",
       "</table>\n",
       "<p>2626 rows × 13 columns</p>\n",
       "</div>"
      ],
      "text/plain": [
       "                           anime_name  anime_id     type  episodes  score  \\\n",
       "0                        Cowboy Bebop         1       TV      26.0   8.77   \n",
       "1     Cowboy Bebop: Tengoku no Tobira         5    Movie       1.0   8.38   \n",
       "2                              Trigun         6       TV      26.0   8.22   \n",
       "3                  Witch Hunter Robin         7       TV      26.0   7.26   \n",
       "4                      Bouken Ou Beet         8       TV      52.0   6.96   \n",
       "...                               ...       ...      ...       ...    ...   \n",
       "2621               Rosario to Vampire      2993       TV      13.0   6.79   \n",
       "2622              Death Note: Rewrite      2994  Special       2.0   7.69   \n",
       "2623            Hi no Tori: Houou-hen      2997    Movie       1.0   6.86   \n",
       "2624            Hi no Tori: Uchuu-hen      2998      OVA       1.0   6.94   \n",
       "2625           Hi no Tori: Yamato-hen      2999      OVA       1.0   6.76   \n",
       "\n",
       "        rank  popularity  scored_by  likes                 aired_from  \\\n",
       "0       32.0          44   713379.0  64780  1998-04-03T00:00:00+00:00   \n",
       "1      170.0         552   178460.0   1155  2001-09-01T00:00:00+00:00   \n",
       "2      300.0         228   301980.0  12438  1998-04-01T00:00:00+00:00   \n",
       "3     2637.0        1605    37883.0    534  2002-07-02T00:00:00+00:00   \n",
       "4     3925.0        4651     5547.0     13  2004-09-30T00:00:00+00:00   \n",
       "...      ...         ...        ...    ...                        ...   \n",
       "2621  4647.0         241   346017.0   3129  2008-01-03T00:00:00+00:00   \n",
       "2622  1087.0        1020    77166.0    466  2007-08-31T00:00:00+00:00   \n",
       "2623  4346.0        8364     1159.0      5  1986-12-20T00:00:00+00:00   \n",
       "2624  4021.0        8822      948.0      4  1987-12-21T00:00:00+00:00   \n",
       "2625  4802.0        9230      851.0      3  1987-08-01T00:00:00+00:00   \n",
       "\n",
       "                       aired_to            duration  \\\n",
       "0     1999-04-24T00:00:00+00:00       24 min per ep   \n",
       "1                           NaN         1 hr 55 min   \n",
       "2     1998-09-30T00:00:00+00:00       24 min per ep   \n",
       "3     2002-12-24T00:00:00+00:00       25 min per ep   \n",
       "4     2005-09-29T00:00:00+00:00       23 min per ep   \n",
       "...                         ...                 ...   \n",
       "2621  2008-03-27T00:00:00+00:00       25 min per ep   \n",
       "2622  2008-08-22T00:00:00+00:00  1 hr 52 min per ep   \n",
       "2623                        NaN                1 hr   \n",
       "2624                        NaN              48 min   \n",
       "2625                        NaN              48 min   \n",
       "\n",
       "                                              Storyline  \n",
       "0     In the year 2071, humanity has colonized sever...  \n",
       "1     Another day, another bounty—such is the life o...  \n",
       "2     Vash the Stampede is the man with a $$60,000,0...  \n",
       "3     Witches are individuals with special powers li...  \n",
       "4     It is the dark century and the people are suff...  \n",
       "...                                                 ...  \n",
       "2621  Youkai Academy is a seemingly normal boarding ...  \n",
       "2622  1. Genshisuru Kami (Visions of a God) A two ho...  \n",
       "2623  Akanemaru, a skilled sculptor, sets out to fin...  \n",
       "2624  In deep space, four astronauts discover that t...  \n",
       "2625  At his father's command, Oguna, the youngest p...  \n",
       "\n",
       "[2626 rows x 13 columns]"
      ]
     },
     "execution_count": 2,
     "metadata": {},
     "output_type": "execute_result"
    }
   ],
   "source": [
    "df=pd.read_csv('anime project.csv')\n",
    "df"
   ]
  },
  {
   "cell_type": "code",
   "execution_count": 3,
   "id": "550e66a7",
   "metadata": {},
   "outputs": [
    {
     "name": "stdout",
     "output_type": "stream",
     "text": [
      "aired_to      0.320259\n",
      "rank          0.087205\n",
      "Storyline     0.007616\n",
      "score         0.004570\n",
      "scored_by     0.004570\n",
      "episodes      0.002285\n",
      "anime_name    0.000000\n",
      "anime_id      0.000000\n",
      "type          0.000000\n",
      "popularity    0.000000\n",
      "dtype: float64\n"
     ]
    }
   ],
   "source": [
    "MVpercentages = (df.isnull().sum()/df.shape[0]).sort_values(ascending=False)\n",
    "print(MVpercentages.head(10))"
   ]
  },
  {
   "cell_type": "code",
   "execution_count": 4,
   "id": "6e43d6d9",
   "metadata": {},
   "outputs": [],
   "source": [
    "df['rank'] = df['rank'].fillna(0)\n",
    "df['score'] = df['score'].fillna(0)\n",
    "df['scored_by'] = df['scored_by'].fillna(0)"
   ]
  },
  {
   "cell_type": "code",
   "execution_count": 5,
   "id": "649b1def",
   "metadata": {},
   "outputs": [
    {
     "data": {
      "text/plain": [
       "(array([110.,   0., 168., 125., 225., 182., 178., 129., 196., 161., 151.,\n",
       "        129., 108., 101., 101.,  67.,  88.,  53.,  59.,  36.,  48.,  40.,\n",
       "         35.,  19.,  22.,  22.,  12.,  11.,  11.,  11.,  13.,   4.,   2.,\n",
       "          4.,   3.,   2.]),\n",
       " array([ 0.        ,  0.32985113,  0.65970226,  0.98955339,  1.31940452,\n",
       "         1.64925565,  1.97910678,  2.30895791,  2.63880904,  2.96866017,\n",
       "         3.2985113 ,  3.62836243,  3.95821356,  4.28806469,  4.61791582,\n",
       "         4.94776695,  5.27761808,  5.60746921,  5.93732034,  6.26717147,\n",
       "         6.5970226 ,  6.92687373,  7.25672486,  7.58657599,  7.91642712,\n",
       "         8.24627825,  8.57612938,  8.90598051,  9.23583164,  9.56568277,\n",
       "         9.8955339 , 10.22538503, 10.55523616, 10.88508729, 11.21493843,\n",
       "        11.54478956, 11.87464069]),\n",
       " <BarContainer object of 36 artists>)"
      ]
     },
     "execution_count": 5,
     "metadata": {},
     "output_type": "execute_result"
    },
    {
     "data": {
      "image/png": "[encoded data removed]",
      "text/plain": [
       "<Figure size 432x288 with 1 Axes>"
      ]
     },
     "metadata": {
      "needs_background": "light"
     },
     "output_type": "display_data"
    }
   ],
   "source": [
    "#Normalizing the distribution of the target variable likes \n",
    "df['likes']=np.log(df['likes']+1)\n",
    "plt.hist(df['likes'], color = 'blue', edgecolor = 'black',\n",
    "         bins = int(180/5))"
   ]
  },
  {
   "cell_type": "code",
   "execution_count": 6,
   "id": "17db52c7",
   "metadata": {},
   "outputs": [],
   "source": [
    "#Creating predictors and target variable \n",
    "X=df [['score','rank','popularity','scored_by']]\n",
    "y=df['likes']\n",
    "y.replace([np.inf, -np.inf], np.nan, inplace=True)\n",
    "y = y.fillna(0)"
   ]
  },
  {
   "cell_type": "code",
   "execution_count": 20,
   "id": "e36d1b2a",
   "metadata": {},
   "outputs": [
    {
     "name": "stdout",
     "output_type": "stream",
     "text": [
      "Cross validation error on the train set (CV = 10): 0.9463206817956262\n"
     ]
    }
   ],
   "source": [
    "scorer = make_scorer(mean_squared_error, greater_is_better = False)\n",
    "model = LinearRegression()\n",
    "print(\"Cross validation error on the train set (CV = 10): {}\".format(np.sqrt(-cross_val_score(model, X, y, scoring = scorer, cv = 10)).mean()))\n",
    "cross_val_score(model, X, y, scoring = scorer, cv = 10)\n",
    "model.fit(X, y)\n",
    "y_pred = model.predict(X)"
   ]
  },
  {
   "cell_type": "code",
   "execution_count": 22,
   "id": "3f6eb4fa",
   "metadata": {},
   "outputs": [
    {
     "name": "stdout",
     "output_type": "stream",
     "text": [
      "RMSE: 0.9122756366386134\n"
     ]
    },
    {
     "data": {
      "image/png": "[encoded data removed]",
      "text/plain": [
       "<Figure size 432x288 with 1 Axes>"
      ]
     },
     "metadata": {
      "needs_background": "light"
     },
     "output_type": "display_data"
    }
   ],
   "source": [
    "rmse_train = np.sqrt(mean_squared_error(y, y_pred))\n",
    "print('RMSE: {}'.format(rmse_train))\n",
    "\n",
    "plt.scatter(y_pred, y)\n",
    "plt.show()"
   ]
  },
  {
   "cell_type": "code",
   "execution_count": 12,
   "id": "6e645e3b",
   "metadata": {},
   "outputs": [
    {
     "name": "stdout",
     "output_type": "stream",
     "text": [
      "MSE: 0.5451727046682285\n"
     ]
    },
    {
     "data": {
      "image/png": "[encoded data removed]",
      "text/plain": [
       "<Figure size 432x288 with 1 Axes>"
      ]
     },
     "metadata": {
      "needs_background": "light"
     },
     "output_type": "display_data"
    }
   ],
   "source": [
    "#2nd model with Random forest regressor \n",
    "model2 = RandomForestRegressor(n_estimators=20, random_state=0)\n",
    "model2.fit(X, y)\n",
    "y_pred = model2.predict(X)\n",
    "cv = RepeatedKFold(n_splits=10, n_repeats=3, random_state=1)\n",
    "scores = cross_val_score(model3, X, y, scoring='neg_mean_squared_error', cv=cv)\n",
    "scores=absolute(scores)\n",
    "# force scores to be positive\n",
    "print('MSE: {}'.format(scores.mean()))\n",
    "plt.scatter(y_pred, y)\n",
    "plt.show()"
   ]
  },
  {
   "cell_type": "code",
   "execution_count": 10,
   "id": "c2d6b423",
   "metadata": {},
   "outputs": [
    {
     "name": "stdout",
     "output_type": "stream",
     "text": [
      "MSE is : 0.545 \n"
     ]
    },
    {
     "data": {
      "image/png": "[encoded data removed]",
      "text/plain": [
       "<Figure size 432x288 with 1 Axes>"
      ]
     },
     "metadata": {
      "needs_background": "light"
     },
     "output_type": "display_data"
    }
   ],
   "source": [
    "#3rd model with Extreme Gradient boosting \n",
    "model3=XGBRegressor()\n",
    "model3.fit(X,y)\n",
    "y_pred= model3.predict(X)\n",
    "cv = RepeatedKFold(n_splits=10, n_repeats=3, random_state=1)\n",
    "scores = cross_val_score(model3, X, y, scoring='neg_mean_squared_error', cv=cv)\n",
    "# force scores to be positive\n",
    "scores = absolute(scores)\n",
    "print('MSE is : %.3f ' % (scores.mean()))\n",
    "\n",
    "plt.scatter(y_pred,y)\n",
    "plt.show()\n"
   ]
  },
  {
   "cell_type": "code",
   "execution_count": null,
   "id": "5f0108c2",
   "metadata": {},
   "outputs": [],
   "source": []
  }
 ],
 "metadata": {
  "kernelspec": {
   "display_name": "Python 3",
   "language": "python",
   "name": "python3"
  },
  "language_info": {
   "codemirror_mode": {
    "name": "ipython",
    "version": 3
   },
   "file_extension": ".py",
   "mimetype": "text/x-python",
   "name": "python",
   "nbconvert_exporter": "python",
   "pygments_lexer": "ipython3",
   "version": "3.8.8"
  }
 },
 "nbformat": 4,
 "nbformat_minor": 5
}
